{
 "metadata": {
  "name": ""
 },
 "nbformat": 3,
 "nbformat_minor": 0,
 "worksheets": [
  {
   "cells": [
    {
     "cell_type": "heading",
     "level": 2,
     "metadata": {},
     "source": [
      "PROGRAM 4.1, PAGE 179"
     ]
    },
    {
     "cell_type": "code",
     "collapsed": false,
     "input": [
      "#Composite Classes\n",
      "\n",
      "#Python does not support friend funcitons hence 2 classes one for the node and one for the class are declared.\n",
      "\n",
      "class ThreeLetterNode:\n",
      "    data = None\n",
      "    link = None\n",
      "class ThreeLetterChain:\n",
      "    '''A linked list of 3 letter strings'''\n",
      "    first = None"
     ],
     "language": "python",
     "metadata": {},
     "outputs": [],
     "prompt_number": 1
    },
    {
     "cell_type": "heading",
     "level": 2,
     "metadata": {},
     "source": [
      "PROGRAM 4.2, PAGE 180"
     ]
    },
    {
     "cell_type": "code",
     "collapsed": false,
     "input": [
      "#Nested Classes\n",
      "class ThreeLetterChain:\n",
      "    class ThreeLetterNode:\n",
      "        data = None\n",
      "        link = None\n",
      "    first = None"
     ],
     "language": "python",
     "metadata": {},
     "outputs": [],
     "prompt_number": 2
    },
    {
     "cell_type": "heading",
     "level": 2,
     "metadata": {},
     "source": [
      "PROGRAM 4.3, PAGE 182"
     ]
    },
    {
     "cell_type": "code",
     "collapsed": false,
     "input": [
      "#Creating a two-node list\n",
      "class ChainNode:\n",
      "    def __init__(self, data, link = None):\n",
      "        self.data = data\n",
      "        self.link = link\n",
      "class Chain:\n",
      "    def __init__(self, first):\n",
      "        self.first = first\n",
      "def Create2(self):\n",
      "    #Create and set fields of second node\n",
      "    self.second = ChainNode(20,None)\n",
      "    \n",
      "    #Create and set fields of first node\n",
      "    self.first = ChainNode(10,second)\n",
      "Chain.Create2 = Create2"
     ],
     "language": "python",
     "metadata": {},
     "outputs": [],
     "prompt_number": 3
    },
    {
     "cell_type": "heading",
     "level": 2,
     "metadata": {},
     "source": [
      "PROGRAM 4.4, PAGE 182"
     ]
    },
    {
     "cell_type": "code",
     "collapsed": false,
     "input": [
      "#Inserting a Node\n",
      "def Insert50(self,x):\n",
      "    if self.first is not None:\n",
      "        #Insert after x\n",
      "        x.link = ChainNode(50,x.link)\n",
      "    else:\n",
      "        #Insert into empty list\n",
      "        first = ChainNode(50)\n",
      "Chain.Insert50 = Insert50"
     ],
     "language": "python",
     "metadata": {},
     "outputs": [],
     "prompt_number": 5
    },
    {
     "cell_type": "heading",
     "level": 2,
     "metadata": {},
     "source": [
      "PROGRAM 4.5, PAGE 183"
     ]
    },
    {
     "cell_type": "code",
     "collapsed": false,
     "input": [
      "#Deleting a node\n",
      "def Delete(self,x,y):\n",
      "    if x == self.first:\n",
      "        self.first = self.first.link\n",
      "    else:\n",
      "        y.link = x.link\n",
      "Chain.Delete = Delete"
     ],
     "language": "python",
     "metadata": {},
     "outputs": [],
     "prompt_number": 7
    },
    {
     "cell_type": "heading",
     "level": 2,
     "metadata": {},
     "source": [
      "PROGRAM 4.6, PAGE 186"
     ]
    },
    {
     "cell_type": "markdown",
     "metadata": {},
     "source": [
      "Python uses [duck typing](http://en.wikipedia.org/wiki/Duck_typing), so it doesn't need special syntax to handle multiple types.\n",
      "Hence template class for Chains is not required. The above defined class Chains will suffice."
     ]
    },
    {
     "cell_type": "heading",
     "level": 2,
     "metadata": {},
     "source": [
      "PROGRAM 4.7, PAGE 187"
     ]
    },
    {
     "cell_type": "code",
     "collapsed": false,
     "input": [
      "#Pseudo code for computing maximum element\n",
      "\n",
      "def Max(C):\n",
      "    return max(C)"
     ],
     "language": "python",
     "metadata": {},
     "outputs": [],
     "prompt_number": 3
    },
    {
     "cell_type": "heading",
     "level": 2,
     "metadata": {},
     "source": [
      "PROGRAM 4.8, PAGE 189"
     ]
    },
    {
     "cell_type": "code",
     "collapsed": false,
     "input": [
      "#Using an array iterator\n",
      "def main():\n",
      "    x = [0,1,2]\n",
      "    for y in x:\n",
      "        print y,\n",
      "if __name__ == \"__main__\":\n",
      "    main()"
     ],
     "language": "python",
     "metadata": {},
     "outputs": [
      {
       "output_type": "stream",
       "stream": "stdout",
       "text": [
        "0 1 2\n"
       ]
      }
     ],
     "prompt_number": 6
    },
    {
     "cell_type": "heading",
     "level": 2,
     "metadata": {},
     "source": [
      "PROGRAM 4.9, PAGE 190"
     ]
    },
    {
     "cell_type": "code",
     "collapsed": false,
     "input": [
      "#Code to simulate C++:STL copy function\n",
      "\n",
      "def copy(src, target, start, end, to):\n",
      "    '''Copy form src[start:end] to target[to:(to+end-start)]'''\n",
      "    while start <= end:\n",
      "        target.__setitem__(to,src[start])\n",
      "        #Set item is used for inplace assignment\n",
      "        to += 1\n",
      "        start += 1\n",
      "        \n",
      "#Sample I/O - Not in textbook\n",
      "a = [1,2,3,4,5,6]\n",
      "b = [6,4,0,1,2,3]\n",
      "copy(a,b,2,5,2)\n",
      "#copies a[2:5] to b[2:5]\n",
      "print b"
     ],
     "language": "python",
     "metadata": {},
     "outputs": [
      {
       "output_type": "stream",
       "stream": "stdout",
       "text": [
        "[6, 4, 3, 4, 5, 6]\n"
       ]
      }
     ],
     "prompt_number": 8
    },
    {
     "cell_type": "heading",
     "level": 2,
     "metadata": {},
     "source": [
      "PROGRAM 4.10, PAGE 191"
     ]
    },
    {
     "cell_type": "code",
     "collapsed": false,
     "input": [
      "#Forward chain iterator for Chain class\n",
      "class ChainIterator:\n",
      "    def __init__(self, startNode = None):\n",
      "        self.current = startNode\n",
      "    #Python does not support ++ operator hence add method is overloaded.\n",
      "    def __add__(self,value):\n",
      "        if value is int:\n",
      "            for i in range(value):\n",
      "                if self.current == None:\n",
      "                    break\n",
      "                self.current = self.current.link\n",
      "                return self\n",
      "        else:\n",
      "            raise TypeError\n",
      "    def __ne__(self, right):\n",
      "        return self.current != right.current\n",
      "    def __eq__(self, right):\n",
      "        return self.current == right.current  "
     ],
     "language": "python",
     "metadata": {},
     "outputs": [],
     "prompt_number": 13
    },
    {
     "cell_type": "heading",
     "level": 2,
     "metadata": {},
     "source": [
      "PROGRAM 4.11, PAGE 192"
     ]
    },
    {
     "cell_type": "code",
     "collapsed": false,
     "input": [],
     "language": "python",
     "metadata": {},
     "outputs": []
    }
   ],
   "metadata": {}
  }
 ]
}