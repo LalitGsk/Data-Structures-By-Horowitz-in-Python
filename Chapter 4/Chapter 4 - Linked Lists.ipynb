{
 "metadata": {
  "name": ""
 },
 "nbformat": 3,
 "nbformat_minor": 0,
 "worksheets": [
  {
   "cells": [
    {
     "cell_type": "heading",
     "level": 2,
     "metadata": {},
     "source": [
      "PROGRAM 4.1, PAGE 179"
     ]
    },
    {
     "cell_type": "code",
     "collapsed": false,
     "input": [
      "#Composite Classes\n",
      "\n",
      "#Python does not support friend funcitons hence 2 classes one for the node and one for the class are declared.\n",
      "\n",
      "class ThreeLetterNode:\n",
      "    data = None\n",
      "    link = None\n",
      "class ThreeLetterChain:\n",
      "    '''A linked list of 3 letter strings'''\n",
      "    first = None"
     ],
     "language": "python",
     "metadata": {},
     "outputs": [],
     "prompt_number": 1
    },
    {
     "cell_type": "heading",
     "level": 2,
     "metadata": {},
     "source": [
      "PROGRAM 4.2, PAGE 180"
     ]
    },
    {
     "cell_type": "code",
     "collapsed": false,
     "input": [
      "#Nested Classes\n",
      "class ThreeLetterChain:\n",
      "    class ThreeLetterNode:\n",
      "        data = None\n",
      "        link = None\n",
      "    first = None"
     ],
     "language": "python",
     "metadata": {},
     "outputs": [],
     "prompt_number": 2
    },
    {
     "cell_type": "heading",
     "level": 2,
     "metadata": {},
     "source": [
      "PROGRAM 4.3, PAGE 182"
     ]
    },
    {
     "cell_type": "code",
     "collapsed": false,
     "input": [
      "#Creating a two-node list\n",
      "class ChainNode:\n",
      "    def __init__(self, data, link = None):\n",
      "        self.data = data\n",
      "        self.link = link\n",
      "class Chain:\n",
      "    def __init__(self, first):\n",
      "        self.first = first\n",
      "def Create2(self):\n",
      "    #Create and set fields of second node\n",
      "    self.second = ChainNode(20,None)\n",
      "    \n",
      "    #Create and set fields of first node\n",
      "    self.first = ChainNode(10,second)\n",
      "Chain.Create2 = Create2"
     ],
     "language": "python",
     "metadata": {},
     "outputs": [],
     "prompt_number": 3
    },
    {
     "cell_type": "heading",
     "level": 2,
     "metadata": {},
     "source": [
      "PROGRAM 4.4, PAGE 182"
     ]
    },
    {
     "cell_type": "code",
     "collapsed": false,
     "input": [
      "#Inserting a Node\n",
      "def Insert50(self,x):\n",
      "    if self.first is not None:\n",
      "        #Insert after x\n",
      "        x.link = ChainNode(50,x.link)\n",
      "    else:\n",
      "        #Insert into empty list\n",
      "        first = ChainNode(50)\n",
      "Chain.Insert50 = Insert50"
     ],
     "language": "python",
     "metadata": {},
     "outputs": [],
     "prompt_number": 5
    },
    {
     "cell_type": "heading",
     "level": 2,
     "metadata": {},
     "source": [
      "PROGRAM 4.5, PAGE 183"
     ]
    },
    {
     "cell_type": "code",
     "collapsed": false,
     "input": [
      "#Deleting a node\n",
      "def Delete(self,x,y):\n",
      "    if x == self.first:\n",
      "        self.first = self.first.link\n",
      "    else:\n",
      "        y.link = x.link\n",
      "Chain.Delete = Delete"
     ],
     "language": "python",
     "metadata": {},
     "outputs": [],
     "prompt_number": 7
    },
    {
     "cell_type": "heading",
     "level": 2,
     "metadata": {},
     "source": [
      "PROGRAM 4.6, PAGE 186"
     ]
    },
    {
     "cell_type": "code",
     "collapsed": false,
     "input": [
      "#Template definition of chains"
     ],
     "language": "python",
     "metadata": {},
     "outputs": []
    }
   ],
   "metadata": {}
  }
 ]
}