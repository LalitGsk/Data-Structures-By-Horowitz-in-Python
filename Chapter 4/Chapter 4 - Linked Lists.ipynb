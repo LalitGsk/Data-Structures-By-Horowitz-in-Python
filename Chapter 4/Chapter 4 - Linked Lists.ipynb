{
 "metadata": {
  "name": ""
 },
 "nbformat": 3,
 "nbformat_minor": 0,
 "worksheets": [
  {
   "cells": [
    {
     "cell_type": "heading",
     "level": 2,
     "metadata": {},
     "source": [
      "PROGRAM 4.1, PAGE 179"
     ]
    },
    {
     "cell_type": "code",
     "collapsed": false,
     "input": [
      "#Composite Classes\n",
      "\n",
      "#Python does not support friend funcitons hence 2 classes one for the node and one for the class are declared.\n",
      "\n",
      "class ThreeLetterNode:\n",
      "    data = None\n",
      "    link = None\n",
      "class ThreeLetterChain:\n",
      "    '''A linked list of 3 letter strings'''\n",
      "    first = None"
     ],
     "language": "python",
     "metadata": {},
     "outputs": [],
     "prompt_number": 1
    },
    {
     "cell_type": "heading",
     "level": 2,
     "metadata": {},
     "source": [
      "PROGRAM 4.2, PAGE 180"
     ]
    },
    {
     "cell_type": "code",
     "collapsed": false,
     "input": [
      "#Nested Classes\n",
      "class ThreeLetterChain:\n",
      "    class ThreeLetterNode:\n",
      "        data = None\n",
      "        link = None\n",
      "    first = None"
     ],
     "language": "python",
     "metadata": {},
     "outputs": [],
     "prompt_number": 2
    },
    {
     "cell_type": "heading",
     "level": 2,
     "metadata": {},
     "source": [
      "PROGRAM 4.3, PAGE 182"
     ]
    },
    {
     "cell_type": "code",
     "collapsed": false,
     "input": [
      "#Creating a two-node list\n",
      "class ChainNode:\n",
      "    def __init__(self, data, link = None):\n",
      "        self.data = data\n",
      "        self.link = link\n",
      "class Chain:\n",
      "    def __init__(self, first):\n",
      "        self.first = first\n",
      "def Create2(self):\n",
      "    #Create and set fields of second node\n",
      "    self.second = ChainNode(20,None)\n",
      "    \n",
      "    #Create and set fields of first node\n",
      "    self.first = ChainNode(10,second)\n",
      "Chain.Create2 = Create2"
     ],
     "language": "python",
     "metadata": {},
     "outputs": [],
     "prompt_number": 7
    },
    {
     "cell_type": "heading",
     "level": 2,
     "metadata": {},
     "source": [
      "PROGRAM 4.4, PAGE 182"
     ]
    },
    {
     "cell_type": "code",
     "collapsed": false,
     "input": [
      "#Inserting a Node\n",
      "def Insert50(self,x):\n",
      "    if self.first is not None:\n",
      "        #Insert after x\n",
      "        x.link = ChainNode(50,x.link)\n",
      "    else:\n",
      "        #Insert into empty list\n",
      "        first = ChainNode(50)\n",
      "Chain.Insert50 = Insert50"
     ],
     "language": "python",
     "metadata": {},
     "outputs": [],
     "prompt_number": 4
    },
    {
     "cell_type": "heading",
     "level": 2,
     "metadata": {},
     "source": [
      "PROGRAM 4.5, PAGE 183"
     ]
    },
    {
     "cell_type": "code",
     "collapsed": false,
     "input": [
      "#Deleting a node\n",
      "def Delete(self,x,y):\n",
      "    if x == self.first:\n",
      "        self.first = self.first.link\n",
      "    else:\n",
      "        y.link = x.link\n",
      "Chain.Delete = Delete"
     ],
     "language": "python",
     "metadata": {},
     "outputs": [],
     "prompt_number": 5
    },
    {
     "cell_type": "heading",
     "level": 2,
     "metadata": {},
     "source": [
      "PROGRAM 4.6, PAGE 186"
     ]
    },
    {
     "cell_type": "markdown",
     "metadata": {},
     "source": [
      "Python uses [duck typing](http://en.wikipedia.org/wiki/Duck_typing), so it doesn't need special syntax to handle multiple types.\n",
      "Hence template class for Chains is not required. The above defined class Chains will suffice."
     ]
    },
    {
     "cell_type": "heading",
     "level": 2,
     "metadata": {},
     "source": [
      "PROGRAM 4.7, PAGE 187"
     ]
    },
    {
     "cell_type": "code",
     "collapsed": false,
     "input": [
      "#Pseudo code for computing maximum element\n",
      "\n",
      "def Max(C):\n",
      "    return max(C)"
     ],
     "language": "python",
     "metadata": {},
     "outputs": [],
     "prompt_number": 6
    },
    {
     "cell_type": "heading",
     "level": 2,
     "metadata": {},
     "source": [
      "PROGRAM 4.8, PAGE 189"
     ]
    },
    {
     "cell_type": "code",
     "collapsed": false,
     "input": [
      "#Using an array iterator\n",
      "def main():\n",
      "    x = [0,1,2]\n",
      "    for y in x:\n",
      "        print y,\n",
      "if __name__ == \"__main__\":\n",
      "    main()"
     ],
     "language": "python",
     "metadata": {},
     "outputs": [
      {
       "output_type": "stream",
       "stream": "stdout",
       "text": [
        "0 1 2\n"
       ]
      }
     ],
     "prompt_number": 7
    },
    {
     "cell_type": "heading",
     "level": 2,
     "metadata": {},
     "source": [
      "PROGRAM 4.9, PAGE 190"
     ]
    },
    {
     "cell_type": "code",
     "collapsed": false,
     "input": [
      "#Code to simulate C++:STL copy function\n",
      "\n",
      "def copy(src, target, start, end, to):\n",
      "    '''Copy form src[start:end] to target[to:(to+end-start)]'''\n",
      "    while start <= end:\n",
      "        target.__setitem__(to,src[start])\n",
      "        #Set item is used for inplace assignment\n",
      "        to += 1\n",
      "        start += 1\n",
      "        \n",
      "#Sample I/O - Not in textbook\n",
      "a = [1,2,3,4,5,6]\n",
      "b = [6,4,0,1,2,3]\n",
      "copy(a,b,2,5,2)\n",
      "#copies a[2:5] to b[2:5]\n",
      "print b"
     ],
     "language": "python",
     "metadata": {},
     "outputs": [
      {
       "output_type": "stream",
       "stream": "stdout",
       "text": [
        "[6, 4, 3, 4, 5, 6]\n"
       ]
      }
     ],
     "prompt_number": 8
    },
    {
     "cell_type": "heading",
     "level": 2,
     "metadata": {},
     "source": [
      "PROGRAM 4.10, PAGE 191"
     ]
    },
    {
     "cell_type": "code",
     "collapsed": false,
     "input": [
      "#Forward chain iterator for Chain class\n",
      "class ChainIterator:\n",
      "    def __init__(self, startNode = None):\n",
      "        self.current = startNode\n",
      "    #Python does not support ++ operator hence add method is overloaded.\n",
      "    def __add__(self,value):\n",
      "        if value is int:\n",
      "            for i in range(value):\n",
      "                if self.current == None:\n",
      "                    break\n",
      "                self.current = self.current.link\n",
      "                return self\n",
      "        else:\n",
      "            raise TypeError\n",
      "    def __ne__(self, right):\n",
      "        return self.current != right.current\n",
      "    def __eq__(self, right):\n",
      "        return self.current == right.current  "
     ],
     "language": "python",
     "metadata": {},
     "outputs": [],
     "prompt_number": 9
    },
    {
     "cell_type": "heading",
     "level": 2,
     "metadata": {},
     "source": [
      "PROGRAM 4.11, PAGE 192"
     ]
    },
    {
     "cell_type": "code",
     "collapsed": false,
     "input": [
      "#Inserting at the back of a list\n",
      "\n",
      "def InsertBack(self, e):\n",
      "    if self.first == None :\n",
      "        #If chain is empty\n",
      "        self.first = ChainNode(e)\n",
      "        self.last = self.first\n",
      "    else:\n",
      "        #On non empty chains\n",
      "        self.last.link = ChainNode(e)\n",
      "        self.last = self.last.link\n",
      "        \n",
      "Chain.InsertBack = InsertBack"
     ],
     "language": "python",
     "metadata": {},
     "outputs": [],
     "prompt_number": 10
    },
    {
     "cell_type": "heading",
     "level": 2,
     "metadata": {},
     "source": [
      "PROGRAM 4.12, PAGE 192"
     ]
    },
    {
     "cell_type": "code",
     "collapsed": false,
     "input": [
      "#Concatenating two chains\n",
      "def Concatenate(b):\n",
      "    '''b is concatenated to the end of self'''\n",
      "    if first != None :\n",
      "        self.last.link = b.first\n",
      "        self.last = b.last\n",
      "    else:\n",
      "        self.first = b.first\n",
      "        self.last = b.last\n",
      "    b.first = None\n",
      "    b.last = None     \n",
      "Chain.Concatenate = Concatenate"
     ],
     "language": "python",
     "metadata": {},
     "outputs": [],
     "prompt_number": 12
    },
    {
     "cell_type": "heading",
     "level": 2,
     "metadata": {},
     "source": [
      "PROGRAM 4.13, PAGE 193"
     ]
    },
    {
     "cell_type": "code",
     "collapsed": false,
     "input": [
      "#Reversing a list\n",
      "def Reverse(self):\n",
      "    ''' A chain is reversed so that [ a[0] , ... , a[n] ] becomes [ a[n] , ... , a[0] ]'''\n",
      "    previous = None\n",
      "    current = self.first\n",
      "    while current is not None:\n",
      "        r = previous\n",
      "        #r is a temp variable which trails the previous\n",
      "        previous = current\n",
      "        current = current.link\n",
      "        previous.link = r\n",
      "    self.first = previous\n",
      "Chain.Reverse = Reverse"
     ],
     "language": "python",
     "metadata": {},
     "outputs": [],
     "prompt_number": 14
    },
    {
     "cell_type": "heading",
     "level": 2,
     "metadata": {},
     "source": [
      "PROGRAM 4.14, PAGE 196"
     ]
    },
    {
     "cell_type": "code",
     "collapsed": false,
     "input": [
      "class CircularList:\n",
      "    def __init__(self):\n",
      "        self.first = None\n",
      "        self.last = None\n",
      "        self.av = None\n",
      "        #av is the list of deleted Nodes\n",
      "    def InsertFront(self,e):\n",
      "        '''Inserts the element e at the front of the circular list self, where last points to the last node in the list'''\n",
      "        newNode = ChainNode(e)\n",
      "        if last is not None:\n",
      "            newNode.link = self.last.link\n",
      "            self.last.link = newNode\n",
      "        else:\n",
      "            #empty list\n",
      "            self.last = newNode\n",
      "            self.last.link = self.last\n",
      "            #circular referencing"
     ],
     "language": "python",
     "metadata": {},
     "outputs": [],
     "prompt_number": 1
    },
    {
     "cell_type": "heading",
     "level": 2,
     "metadata": {},
     "source": [
      "PROGRAM 4.15, PAGE 198"
     ]
    },
    {
     "cell_type": "code",
     "collapsed": false,
     "input": [
      "#Getting a Node\n",
      "def GetNode(self):\n",
      "    '''Provide a node for use'''\n",
      "    if self.av is not None:\n",
      "        x = self.av\n",
      "        self.av = self.av.link\n",
      "    else:\n",
      "        #if there is no deleted node to x is assigned a new Node\n",
      "        x = ChainNode()\n",
      "    return x\n",
      "CircularList.GetNode = GetNode"
     ],
     "language": "python",
     "metadata": {},
     "outputs": [],
     "prompt_number": 3
    },
    {
     "cell_type": "heading",
     "level": 2,
     "metadata": {},
     "source": [
      "PROGRAM 4.16, PAGE 198"
     ]
    },
    {
     "cell_type": "code",
     "collapsed": false,
     "input": [
      "#Returning a node\n",
      "def RetNode(self,x):\n",
      "    '''Free the node pointed by x'''\n",
      "    x.link = self.av\n",
      "    self.av = x\n",
      "    x = None\n",
      "    #inserts (at the front) the x to the list av, which contains deleted list"
     ],
     "language": "python",
     "metadata": {},
     "outputs": [],
     "prompt_number": 4
    },
    {
     "cell_type": "heading",
     "level": 2,
     "metadata": {},
     "source": [
      "PROGRAM 4.17, PAGE 198"
     ]
    },
    {
     "cell_type": "code",
     "collapsed": false,
     "input": [
      "#Deleting a Circular list\n",
      "#Python manages out of scope variable by efficient garbage collection methods hence destructors cannot be defined in python\n",
      "#Instead a method __del__() is created to simulate the same effect.\n",
      "def __del__(self):\n",
      "    '''Delete the circular list'''\n",
      "    if self.last is not None:\n",
      "        self.first = self.last.link\n",
      "        self.last.link = self.av\n",
      "        self.av = self.first\n",
      "        self.last = None\n",
      "CircularList.__del__ = __del__"
     ],
     "language": "python",
     "metadata": {},
     "outputs": [],
     "prompt_number": 6
    },
    {
     "cell_type": "heading",
     "level": 2,
     "metadata": {},
     "source": [
      "PROGRAM 4.19, PAGE 200"
     ]
    },
    {
     "cell_type": "code",
     "collapsed": false,
     "input": [
      "#Adding a linked stack\n",
      "class LinkedStack:\n",
      "    def __init__(self):\n",
      "        self.top = None\n",
      "    def Push(self,e):\n",
      "        self.top = ChainNode(e,top)\n",
      "    def IsEmpty(self):\n",
      "        return self.top is None       "
     ],
     "language": "python",
     "metadata": {},
     "outputs": [],
     "prompt_number": 15
    },
    {
     "cell_type": "heading",
     "level": 2,
     "metadata": {},
     "source": [
      "PROGRAM 4.20, PAGE 201"
     ]
    },
    {
     "cell_type": "code",
     "collapsed": false,
     "input": [
      "#Deleting from a Linked Stack\n",
      "def Pop(self):\n",
      "    '''Deleting top node from the stack'''\n",
      "    if (self.IsEmpty()):\n",
      "        raise Exception('Stack is empty. Cannot delete')\n",
      "    delNode = self.top\n",
      "    sel.top = self.top.link\n",
      "    #In python the del operator deletes the name from the name space only\n",
      "    #Automatic garbage collection in python frees the allocated space by itself hence the use of del is not required\n",
      "LinkedStack.Pop = Pop"
     ],
     "language": "python",
     "metadata": {},
     "outputs": [],
     "prompt_number": 26
    },
    {
     "cell_type": "heading",
     "level": 2,
     "metadata": {},
     "source": [
      "PROGRAM 4.21, PAGE 201"
     ]
    },
    {
     "cell_type": "code",
     "collapsed": false,
     "input": [
      "#Adding to a linked queue\n",
      "class LinkedQueue:\n",
      "    def __init__(self):\n",
      "        self.front = None\n",
      "        self.rear = None\n",
      "def "
     ],
     "language": "python",
     "metadata": {},
     "outputs": [
      {
       "metadata": {},
       "output_type": "pyout",
       "prompt_number": 14,
       "text": [
        "10"
       ]
      }
     ],
     "prompt_number": 14
    }
   ],
   "metadata": {}
  }
 ]
}