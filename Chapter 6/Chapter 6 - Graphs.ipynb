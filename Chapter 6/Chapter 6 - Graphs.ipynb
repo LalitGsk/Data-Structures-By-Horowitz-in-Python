{
 "metadata": {
  "name": "",
  "signature": "sha256:e03dbee35281e2d47411e671983f4329b761adf3da1b93f1c8811a2cfa1d8405"
 },
 "nbformat": 3,
 "nbformat_minor": 0,
 "worksheets": [
  {
   "cells": [
    {
     "cell_type": "heading",
     "level": 2,
     "metadata": {},
     "source": [
      "ADT 6.1, PAGE 331"
     ]
    },
    {
     "cell_type": "code",
     "collapsed": false,
     "input": [
      "# Abstract data type Graph\n",
      "class Graph(object):\n",
      "    "
     ],
     "language": "python",
     "metadata": {},
     "outputs": []
    }
   ],
   "metadata": {}
  }
 ]
}