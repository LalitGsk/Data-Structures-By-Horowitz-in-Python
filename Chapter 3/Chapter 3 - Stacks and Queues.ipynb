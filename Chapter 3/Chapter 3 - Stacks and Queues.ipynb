{
 "metadata": {
  "name": ""
 },
 "nbformat": 3,
 "nbformat_minor": 0,
 "worksheets": [
  {
   "cells": [
    {
     "cell_type": "heading",
     "level": 1,
     "metadata": {},
     "source": [
      "CHAPTER 3 - STACKS AND QUEUES"
     ]
    },
    {
     "cell_type": "code",
     "collapsed": false,
     "input": [
      "#Imports:\n",
      "import numpy as np\n",
      "import random\n",
      "import Queue as qu"
     ],
     "language": "python",
     "metadata": {},
     "outputs": [],
     "prompt_number": 15
    },
    {
     "cell_type": "heading",
     "level": 2,
     "metadata": {},
     "source": [
      "PROGRAM 3.1, PAGE 129"
     ]
    },
    {
     "cell_type": "code",
     "collapsed": false,
     "input": [
      "#Selection sort\n",
      "\n",
      "def SelectionSort(a,n):\n",
      "    #Sort a[0] to a[n-1]\n",
      "    for i in range(n):\n",
      "        j = i\n",
      "        #Find smallest integer in a[i] to a[n-1]\n",
      "        for k in range(i+1,n):\n",
      "            if a[k] < a[j]:\n",
      "                j = k\n",
      "        temp = a[i]\n",
      "        a.__setitem__(i,a[j])\n",
      "        a.__setitem__(j,temp)\n",
      "        #Swapping a[i] and a[j] using __setitem__ method\n",
      "        #This emulates C++ style call by reference."
     ],
     "language": "python",
     "metadata": {},
     "outputs": [],
     "prompt_number": 2
    },
    {
     "cell_type": "heading",
     "level": 2,
     "metadata": {},
     "source": [
      "PROGRAM 3.2, PAGE 129"
     ]
    },
    {
     "cell_type": "code",
     "collapsed": false,
     "input": [
      "#Code Fragment to illustrate template instantiation\n",
      "farray = [ float(j)/2 for j in range(100,0,-1) ]\n",
      "intarray = [ j for j in range(250,0,-1) ]\n",
      "SelectionSort(farray,len(farray))\n",
      "SelectionSort(intarray,len(intarray))\n",
      "#Sample O/P : - Not in textbook\n",
      "#print farray\n",
      "#print intarray"
     ],
     "language": "python",
     "metadata": {},
     "outputs": [],
     "prompt_number": 3
    },
    {
     "cell_type": "heading",
     "level": 2,
     "metadata": {},
     "source": [
      "PROGRAM 3.3, PAGE 130"
     ]
    },
    {
     "cell_type": "code",
     "collapsed": false,
     "input": [
      "#Function to change size of 1D array\n",
      "def ChangeSize1d(a,oldSize,newSize):\n",
      "    for i in range(newSize-oldSize):\n",
      "        a.append(0)"
     ],
     "language": "python",
     "metadata": {},
     "outputs": [],
     "prompt_number": 1
    },
    {
     "cell_type": "heading",
     "level": 2,
     "metadata": {},
     "source": [
      "PROGRAM 3.4, PAGE 131 &nbsp; & &nbsp; PROGRAM 3.5, PAGE 132"
     ]
    },
    {
     "cell_type": "code",
     "collapsed": false,
     "input": [
      "#Definition of the class Bag containing integers\n",
      "#&\n",
      "#Implementation of operations of Bag\n",
      "\n",
      "class Bag(object):\n",
      "    def __init__(self,bagCapacity = 10):\n",
      "        if bagCapacity < 1:\n",
      "            raise Exception('Capacity must be > 0')\n",
      "        self._Bag__capacity = bagCapacity\n",
      "        self._Bag__array = []\n",
      "        self._Bag__top = -1\n",
      "    def Size(self):\n",
      "        '''returns the number of elements in the  bag'''\n",
      "        return self._Bag__top + 1\n",
      "    def IsEmpty(self):\n",
      "        '''return true if the bag is empty; false otherwise'''\n",
      "        return size == 0\n",
      "    def Element(self):\n",
      "        '''Return an element that is in the bag'''\n",
      "        if self.IsEmpty():\n",
      "            raise Exception('Bag is empty')\n",
      "        else:\n",
      "            return self._Bag__array[0]\n",
      "    def Push(self,elt):\n",
      "        if self._Bag__capacity == self._Bag__top+1:\n",
      "            ChangeSize1d(self._Bag__array,capacity,2*capacity)\n",
      "        self._Bag__capacity *= 2\n",
      "        self._Bag__array.append(elt)\n",
      "        self._Bag__top += 1\n",
      "    def Pop(self):\n",
      "        '''Delete an integer from the bag'''\n",
      "        self._Bag__array = self._Bag__array[:-1]\n",
      "        self._Bag__top -= 1     "
     ],
     "language": "python",
     "metadata": {},
     "outputs": [],
     "prompt_number": 1
    },
    {
     "cell_type": "code",
     "collapsed": false,
     "input": [
      "#Sample I/O - Not in textbook:\n",
      "Bg= Bag()\n",
      "Bg.Push(5)\n",
      "Bg.Push(6)\n",
      "Bg.Push(7)\n",
      "Bg.Push(8)\n",
      "Bg.Pop()\n",
      "print Bg._Bag__array"
     ],
     "language": "python",
     "metadata": {},
     "outputs": [
      {
       "output_type": "stream",
       "stream": "stdout",
       "text": [
        "[5, 6, 7]\n"
       ]
      }
     ],
     "prompt_number": 2
    },
    {
     "cell_type": "heading",
     "level": 2,
     "metadata": {},
     "source": [
      "PROGRAM 3.6, PAGE 133 &nbsp; & &nbsp; PROGRAM 3.7, PAGE 134"
     ]
    },
    {
     "cell_type": "markdown",
     "metadata": {},
     "source": [
      "Python uses [duck typing](http://en.wikipedia.org/wiki/Duck_typing), so it doesn't need special syntax to handle multiple types.\n",
      "Hence template class for Bag is not required. The above defined class Bag will suffice."
     ]
    },
    {
     "cell_type": "heading",
     "level": 2,
     "metadata": {},
     "source": [
      "ADT 3.1, PAGE 137  &nbsp; & &nbsp; PROGRAM 3.8, PAGE 138 &nbsp; & &nbsp; PROGRAM 3.9, PAGE 138"
     ]
    },
    {
     "cell_type": "code",
     "collapsed": false,
     "input": [
      "#Abstract data type Stack\n",
      "class Stack:\n",
      "    '''A finite ordered list with zero or more elements'''\n",
      "    def __init__(self, stackCapacity = 10):\n",
      "        '''Create an empty stack whose initial capacity is stackCapacity'''\n",
      "        self._Stack__stackCapacity = stackCapacity\n",
      "        self._Stack__stack = []\n",
      "        self._Stack__top = -1\n",
      "        #_Stack__<varname> is used to define (C++ Style) private variables in python.\n",
      "    def IsEmpty(self):\n",
      "        '''If number of elements in the stack is 0, return True\n",
      "           else return False'''\n",
      "        if self._Stack__top == -1:\n",
      "            return True\n",
      "        else:\n",
      "            return False\n",
      "    def Top(self):\n",
      "        return self._Stack__top\n",
      "    def Push(self, item):\n",
      "        '''Insert item into the top of the stack'''\n",
      "        #Adding to a stack, Page 138\n",
      "        if self._Stack__stackCapacity == self.Stack__top + 1:\n",
      "            self._Stack__stackCapacity *= 2\n",
      "        self._Stack_stack.append(item)\n",
      "        self._Stack_top += 1\n",
      "    def Pop(self):\n",
      "        '''Delete the top element of the stack'''\n",
      "        #Deleting from a stack, Page 138\n",
      "        if self.IsEmpty():\n",
      "            raise Exception('Stack is empty. Cannot delete.')\n",
      "        self.Stack_stack.pop()\n",
      "        self.Stack_top -= 1"
     ],
     "language": "python",
     "metadata": {},
     "outputs": [],
     "prompt_number": 12
    },
    {
     "cell_type": "heading",
     "level": 2,
     "metadata": {},
     "source": [
      "ADT 3.2, PAGE 140"
     ]
    },
    {
     "cell_type": "code",
     "collapsed": false,
     "input": [
      "#Abstract data type Queue\n",
      "\n",
      "#Inbuilt library Queue is used. The Queue object is imported as 'qu'.\n",
      "\n",
      "class Queue:\n",
      "    '''Abstract Data type Queue'''\n",
      "    def __init__(self, queueCapacity = 10):\n",
      "        '''Create a queue, whose initial capacity is queueCapacity'''\n",
      "        self.queue = qu.Queue(queueCapacity)\n",
      "        self.front = -1\n",
      "        self.rear = -1\n",
      "        self.queueCapacity = queueCapacity\n",
      "    def IsEmpty(self):\n",
      "        '''If number of elements is 0 then return True else return False'''\n",
      "        pass\n",
      "    def Front(self):\n",
      "        '''Return the element at the rear of the queue'''\n",
      "        pass\n",
      "    def Rear():\n",
      "        '''Return the element at the rear of the queue'''\n",
      "        pass\n",
      "    def Push(self, item)\n",
      "        '''Insert item at the rear of the queue'''\n",
      "        pass\n",
      "    def Pop():\n",
      "        '''Delete the front element of the queue'''\n",
      "        pass   "
     ],
     "language": "python",
     "metadata": {},
     "outputs": [],
     "prompt_number": 21
    },
    {
     "cell_type": "heading",
     "level": 2,
     "metadata": {},
     "source": [
      "PROGRAM 3.10, PAGE 144 &nbsp; & &nbsp; PROGRAM 3.11, PAGE 146"
     ]
    },
    {
     "cell_type": "code",
     "collapsed": false,
     "input": [
      "\n",
      "#Adding to a queue, Page 144:\n",
      "def Push(self,item):\n",
      "    '''Add x to the rear of queue'''\n",
      "    try:\n",
      "        self.queue.put(item)\n",
      "    except qu.Full:\n",
      "        #Doubling queue capacity, Page 146\n",
      "        queue = qu.Queue(self.queueCapacity*2)\n",
      "        queue.put(self.queue)\n",
      "        self.queue = queue\n",
      "        self.queueCapacity = 2*self.queueCapacity\n",
      "    self.rear += 1\n",
      "    if queueCapacity == 1:\n",
      "        #for the first element added\n",
      "        self.front = 0\n",
      "Queue.Push = Push     "
     ],
     "language": "python",
     "metadata": {},
     "outputs": [],
     "prompt_number": 6
    },
    {
     "cell_type": "code",
     "collapsed": false,
     "input": [],
     "language": "python",
     "metadata": {},
     "outputs": [
      {
       "output_type": "stream",
       "stream": "stdout",
       "text": [
        "Abstract Data type Queue\n"
       ]
      }
     ],
     "prompt_number": 22
    },
    {
     "cell_type": "code",
     "collapsed": false,
     "input": [],
     "language": "python",
     "metadata": {},
     "outputs": []
    }
   ],
   "metadata": {}
  }
 ]
}