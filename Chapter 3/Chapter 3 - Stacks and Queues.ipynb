{
 "metadata": {
  "name": ""
 },
 "nbformat": 3,
 "nbformat_minor": 0,
 "worksheets": [
  {
   "cells": [
    {
     "cell_type": "heading",
     "level": 1,
     "metadata": {},
     "source": [
      "CHAPTER 3 - STACKS AND QUEUES"
     ]
    },
    {
     "cell_type": "code",
     "collapsed": false,
     "input": [
      "#Imports:\n",
      "import numpy as np #Array manipulations\n",
      "import Queue as qu #Queue implementation"
     ],
     "language": "python",
     "metadata": {},
     "outputs": [],
     "prompt_number": 7
    },
    {
     "cell_type": "heading",
     "level": 2,
     "metadata": {},
     "source": [
      "PROGRAM 3.1, PAGE 129"
     ]
    },
    {
     "cell_type": "code",
     "collapsed": false,
     "input": [
      "#Selection sort\n",
      "\n",
      "def SelectionSort(a,n):\n",
      "    #Sort a[0] to a[n-1]\n",
      "    for i in range(n):\n",
      "        j = i\n",
      "        #Find smallest integer in a[i] to a[n-1]\n",
      "        for k in range(i+1,n):\n",
      "            if a[k] < a[j]:\n",
      "                j = k\n",
      "        temp = a[i]\n",
      "        a.__setitem__(i,a[j])\n",
      "        a.__setitem__(j,temp)\n",
      "        #Swapping a[i] and a[j] using __setitem__ method\n",
      "        #This emulates C++ style call by reference."
     ],
     "language": "python",
     "metadata": {},
     "outputs": [],
     "prompt_number": 22
    },
    {
     "cell_type": "heading",
     "level": 2,
     "metadata": {},
     "source": [
      "PROGRAM 3.2, PAGE 129"
     ]
    },
    {
     "cell_type": "code",
     "collapsed": false,
     "input": [
      "#Code Fragment to illustrate template instantiation\n",
      "farray = [ float(j)/2 for j in range(100,0,-1) ]\n",
      "intarray = [ j for j in range(250,0,-1) ]\n",
      "SelectionSort(farray,len(farray))\n",
      "SelectionSort(intarray,len(intarray))\n",
      "#Sample O/P : - Not in textbook\n",
      "#print farray\n",
      "#print intarray"
     ],
     "language": "python",
     "metadata": {},
     "outputs": [],
     "prompt_number": 23
    },
    {
     "cell_type": "heading",
     "level": 2,
     "metadata": {},
     "source": [
      "PROGRAM 3.3, PAGE 130"
     ]
    },
    {
     "cell_type": "code",
     "collapsed": false,
     "input": [
      "#Function to change size of 1D array\n",
      "def ChangeSize1d(a,oldSize,newSize):\n",
      "    for i in range(newSize-oldSize):\n",
      "        a.append(0)"
     ],
     "language": "python",
     "metadata": {},
     "outputs": [],
     "prompt_number": 24
    },
    {
     "cell_type": "heading",
     "level": 2,
     "metadata": {},
     "source": [
      "PROGRAM 3.4, PAGE 131 &nbsp; & &nbsp; PROGRAM 3.5, PAGE 132"
     ]
    },
    {
     "cell_type": "code",
     "collapsed": false,
     "input": [
      "#Definition of the class Bag containing integers\n",
      "#&\n",
      "#Implementation of operations of Bag\n",
      "\n",
      "class Bag(object):\n",
      "    def __init__(self,bagCapacity = 10):\n",
      "        if bagCapacity < 1:\n",
      "            raise Exception('Capacity must be > 0')\n",
      "        self._Bag__capacity = bagCapacity\n",
      "        self._Bag__array = []\n",
      "        self._Bag__top = -1\n",
      "    def Size(self):\n",
      "        '''returns the number of elements in the  bag'''\n",
      "        return self._Bag__top + 1\n",
      "    def IsEmpty(self):\n",
      "        '''return true if the bag is empty; false otherwise'''\n",
      "        return size == 0\n",
      "    def Element(self):\n",
      "        '''Return an element that is in the bag'''\n",
      "        if self.IsEmpty():\n",
      "            raise Exception('Bag is empty')\n",
      "        else:\n",
      "            return self._Bag__array[0]\n",
      "    def Push(self,elt):\n",
      "        if self._Bag__capacity == self._Bag__top+1:\n",
      "            ChangeSize1d(self._Bag__array,capacity,2*capacity)\n",
      "        self._Bag__capacity *= 2\n",
      "        self._Bag__array.append(elt)\n",
      "        self._Bag__top += 1\n",
      "    def Pop(self):\n",
      "        '''Delete an integer from the bag'''\n",
      "        self._Bag__array = self._Bag__array[:-1]\n",
      "        self._Bag__top -= 1     "
     ],
     "language": "python",
     "metadata": {},
     "outputs": [],
     "prompt_number": 3
    },
    {
     "cell_type": "code",
     "collapsed": false,
     "input": [
      "#Sample I/O - Not in textbook:\n",
      "Bg= Bag()\n",
      "Bg.Push(5)\n",
      "Bg.Push(6)\n",
      "Bg.Push(7)\n",
      "Bg.Push(8)\n",
      "Bg.Pop()\n",
      "print Bg._Bag__array"
     ],
     "language": "python",
     "metadata": {},
     "outputs": [
      {
       "output_type": "stream",
       "stream": "stdout",
       "text": [
        "[5, 6, 7]\n"
       ]
      }
     ],
     "prompt_number": 26
    },
    {
     "cell_type": "heading",
     "level": 2,
     "metadata": {},
     "source": [
      "PROGRAM 3.6, PAGE 133 &nbsp; & &nbsp; PROGRAM 3.7, PAGE 134"
     ]
    },
    {
     "cell_type": "markdown",
     "metadata": {},
     "source": [
      "Python uses [duck typing](http://en.wikipedia.org/wiki/Duck_typing), so it doesn't need special syntax to handle multiple types.\n",
      "Hence template class for Bag is not required. The above defined class Bag will suffice."
     ]
    },
    {
     "cell_type": "heading",
     "level": 2,
     "metadata": {},
     "source": [
      "ADT 3.1, PAGE 137  &nbsp; & &nbsp; PROGRAM 3.8, PAGE 138 &nbsp; & &nbsp; PROGRAM 3.9, PAGE 138"
     ]
    },
    {
     "cell_type": "code",
     "collapsed": false,
     "input": [
      "#Abstract data type Stack\n",
      "class Stack:\n",
      "    '''A finite ordered list with zero or more elements'''\n",
      "    def __init__(self, stackCapacity = 10):\n",
      "        '''Create an empty stack whose initial capacity is stackCapacity'''\n",
      "        self._Stack__stackCapacity = stackCapacity\n",
      "        self._Stack__stack = []\n",
      "        self._Stack__top = -1\n",
      "        #_Stack__<varname> is used to define (C++ Style) private variables in python.\n",
      "    def IsEmpty(self):\n",
      "        '''If number of elements in the stack is 0, return True\n",
      "           else return False'''\n",
      "        if self._Stack__top == -1:\n",
      "            return True\n",
      "        else:\n",
      "            return False\n",
      "    def Top(self):\n",
      "        return self._Stack__top\n",
      "    def Push(self, item):\n",
      "        '''Insert item into the top of the stack'''\n",
      "        #Adding to a stack, Page 138\n",
      "        if self._Stack__stackCapacity == self._Stack__top + 1:\n",
      "            self._Stack__stackCapacity *= 2\n",
      "        self._Stack__stack.append(item)\n",
      "        self._Stack__top += 1\n",
      "    def Pop(self):\n",
      "        '''Delete the top element of the stack'''\n",
      "        #Deleting from a stack, Page 138\n",
      "        if self.IsEmpty():\n",
      "            raise Exception('Stack is empty. Cannot delete.')\n",
      "        self._Stack__stack.pop()\n",
      "        self._Stack__top -= 1"
     ],
     "language": "python",
     "metadata": {},
     "outputs": [],
     "prompt_number": 42
    },
    {
     "cell_type": "heading",
     "level": 2,
     "metadata": {},
     "source": [
      "ADT 3.2, PAGE 140"
     ]
    },
    {
     "cell_type": "code",
     "collapsed": false,
     "input": [
      "#Abstract data type Queue\n",
      "\n",
      "#Inbuilt library Queue is used. The Queue object is imported as 'qu'.\n",
      "\n",
      "class Queue:\n",
      "    '''Abstract Data type Queue'''\n",
      "    def __init__(self, queueCapacity = 10):\n",
      "        '''Create a queue, whose initial capacity is queueCapacity'''\n",
      "        self.queue = []\n",
      "        self.front = -1\n",
      "        self.rear = -1\n",
      "        self.queueCapacity = queueCapacity\n",
      "    def IsEmpty(self):\n",
      "        '''If number of elements is 0 then return True else return False'''\n",
      "        return len(self.queue) == 0\n",
      "    def Front(self):\n",
      "        '''Return the element at the rear of the queue'''\n",
      "        try:\n",
      "            return self.queue[self.front]\n",
      "        except qu.Empty:\n",
      "            return None\n",
      "    def Rear(self):\n",
      "        '''Return the element at the rear of the queue'''\n",
      "        try:\n",
      "            return self.queue[self.rear]\n",
      "        except qu.Empty:\n",
      "            return None\n",
      "    def Push(self, item):\n",
      "        '''Insert item at the rear of the queue'''\n",
      "        pass\n",
      "    def Pop(self):\n",
      "        '''Delete the front element of the queue'''\n",
      "        pass"
     ],
     "language": "python",
     "metadata": {},
     "outputs": [],
     "prompt_number": 32
    },
    {
     "cell_type": "heading",
     "level": 2,
     "metadata": {},
     "source": [
      "PROGRAM 3.10, PAGE 144 &nbsp; & &nbsp; PROGRAM 3.11, PAGE 146"
     ]
    },
    {
     "cell_type": "code",
     "collapsed": false,
     "input": [
      "\n",
      "#Adding to a queue, Page 144:\n",
      "def Push(self,item):\n",
      "    '''Add x to the rear of queue'''\n",
      "    if self.queueCapacity == self.rear+1:\n",
      "        #Doubling queue capacity, Page 146\n",
      "        self.queueCapacity = 2*self.queueCapacity\n",
      "    self.queue.append(item)\n",
      "    self.rear += 1\n",
      "    if self.queueCapacity == 1:\n",
      "        #for the first element added\n",
      "        self.front = 0\n",
      "Queue.Push = Push "
     ],
     "language": "python",
     "metadata": {},
     "outputs": [],
     "prompt_number": 34
    },
    {
     "cell_type": "heading",
     "level": 2,
     "metadata": {},
     "source": [
      "PROGRAM 3.12, PAGE 147"
     ]
    },
    {
     "cell_type": "code",
     "collapsed": false,
     "input": [
      "#Deleting from a queue\n",
      "def Pop(self):\n",
      "    '''Delete front element from queue'''\n",
      "    if self.IsEmpty():\n",
      "        raise Exception('Queue is empty. Cannot delete')\n",
      "    else:\n",
      "        self.front += 1 \n",
      "        self.queue = self.queue[1:]\n",
      "        #the first element is removed from the queue.\n",
      "Queue.Pop = Pop"
     ],
     "language": "python",
     "metadata": {},
     "outputs": [],
     "prompt_number": 40
    },
    {
     "cell_type": "code",
     "collapsed": false,
     "input": [
      "#Sample I/O - Not in text book:\n",
      "a = Queue(10)\n",
      "a.Push(5)\n",
      "a.Push(6)\n",
      "a.Push(9)\n",
      "a.Push(8)\n",
      "a.Pop()\n",
      "print a.queue"
     ],
     "language": "python",
     "metadata": {},
     "outputs": [
      {
       "output_type": "stream",
       "stream": "stdout",
       "text": [
        "[6, 9, 8]\n"
       ]
      }
     ],
     "prompt_number": 46
    },
    {
     "cell_type": "heading",
     "level": 2,
     "metadata": {},
     "source": [
      "PROGRAM 3.13, PAGE 149"
     ]
    },
    {
     "cell_type": "code",
     "collapsed": false,
     "input": [
      "#Code Snippet demonstrating inheritance\n",
      "class Stack(Bag):\n",
      "    '''Stack class inherits from class Bag'''\n",
      "    def __init__(self, stackCapacity = 10):\n",
      "        pass\n",
      "    def Top(self):\n",
      "        pass\n",
      "    def Pop(self):\n",
      "        pass"
     ],
     "language": "python",
     "metadata": {},
     "outputs": [],
     "prompt_number": 5
    },
    {
     "cell_type": "heading",
     "level": 2,
     "metadata": {},
     "source": [
      "PROGRAM 3.14, PAGE 150"
     ]
    },
    {
     "cell_type": "code",
     "collapsed": false,
     "input": [
      "#Implementataion of stack operations.\n",
      "def __init__(self, stackCapacity = 10):\n",
      "    '''Create an empty stack whose initial capacity is stackCapacity'''\n",
      "    self._Stack__stackCapacity = stackCapacity\n",
      "    self._Stack__stack = []\n",
      "    self._Stack__top = -1\n",
      "    #_Stack__<varname> is used to define (C++ Style) private variables in python.\n",
      "Stack.__init__ = __init__\n",
      "def IsEmpty(self):\n",
      "    '''If number of elements in the stack is 0, return True\n",
      "       else return False'''\n",
      "    if self._Stack__top == -1:\n",
      "        return True\n",
      "    else:\n",
      "        return False\n",
      "Stack.IsEmpty = IsEmpty\n",
      "def Top(self):\n",
      "    return self._Stack__top\n",
      "Stack.Top = Top\n",
      "def Push(self, item):\n",
      "    '''Insert item into the top of the stack'''\n",
      "    #Adding to a stack, Page 138\n",
      "    if self._Stack__stackCapacity == self._Stack__top + 1:\n",
      "        self._Stack__stackCapacity *= 2\n",
      "    self._Stack__stack.append(item)\n",
      "    self._Stack__top += 1\n",
      "Stack.Push = Push\n",
      "def Pop(self):\n",
      "    '''Delete the top element of the stack'''\n",
      "    #Deleting from a stack, Page 138\n",
      "    if self.IsEmpty():\n",
      "        raise Exception('Stack is empty. Cannot delete.')\n",
      "    self._Stack__stack.pop()\n",
      "Stack.Pop = Pop"
     ],
     "language": "python",
     "metadata": {},
     "outputs": [],
     "prompt_number": 43
    },
    {
     "cell_type": "heading",
     "level": 2,
     "metadata": {},
     "source": [
      "PROGRAM 3.15 [ Algorithm ], PAGE 156 &nbsp; & &nbsp; PROGRAM 3.16, PAGE 158"
     ]
    },
    {
     "cell_type": "code",
     "collapsed": false,
     "input": [
      "#Finding a Path through a Maze\n",
      "maze = np.array([   [ 0, 0, 0, 0, 0, 0, 0, 0, 1 ],\n",
      "                    [ 1, 1, 1, 1, 1, 1 ,1, 1, 0 ],\n",
      "                    [ 1, 1, 1, 1, 1, 1 ,1, 1, 0 ],\n",
      "                    [ 1, 1, 1, 1, 1, 1 ,1, 1, 0 ],\n",
      "                    [ 1, 1, 1, 1, 1, 1 ,1, 1, 0 ],\n",
      "                    [ 1, 1, 1, 1, 1, 1 ,1, 1, 0 ],\n",
      "                    [ 1, 1, 1, 1, 1, 1 ,1, 1, 0 ],\n",
      "                    [ 1, 1, 1, 1, 1, 1 ,1, 1, 0 ],\n",
      "                    [ 1, 1, 1, 1, 1, 1 ,1, 1, 0 ]    ])\n",
      "\n",
      "mark = np.zeros(maze.shape,int)\n",
      "\n",
      "#direction array [Increment required to move from current cell ]\n",
      "dArray = [(1,0), (-1,0), (0,-1), (0,1), (1,-1), (1,1), (-1,-1), (-1,1)]\n",
      "#E,      W,      N,     S,     NE,     SE,    NW,      SW   \n",
      "   \n",
      "def Path(m,p,(istart = 0,jstart = 0),pathStack = Stack(maze.size)):\n",
      "    '''Output a path, if any, in the maze'''\n",
      "    global maze\n",
      "    global dArray\n",
      "    for i in range(istart, maze.shape[0]):\n",
      "        for j in range(jstart, maze.shape[1]):\n",
      "            if (i,j) == (m,p):\n",
      "                found = True\n",
      "                break\n",
      "            if (maze[i][j] == 1) or (mark[i][j] == 1):\n",
      "                traceBack(m,p,pathStack.Pop(),pathStack)\n",
      "                pass \n",
      "            for di in dArray:\n",
      "                i += di[0]\n",
      "                j += di[1]\n",
      "            pathStack.Push((i,j))\n",
      "            \n",
      "        if found:\n",
      "            break\n",
      "    return pathStack\n",
      "Path(8,8)\n"
     ],
     "language": "python",
     "metadata": {},
     "outputs": [
      {
       "ename": "UnboundLocalError",
       "evalue": "local variable 'found' referenced before assignment",
       "output_type": "pyerr",
       "traceback": [
        "\u001b[1;31m---------------------------------------------------------------------------\u001b[0m\n\u001b[1;31mUnboundLocalError\u001b[0m                         Traceback (most recent call last)",
        "\u001b[1;32m<ipython-input-44-b2b0560a4083>\u001b[0m in \u001b[0;36m<module>\u001b[1;34m()\u001b[0m\n\u001b[0;32m     35\u001b[0m             \u001b[1;32mbreak\u001b[0m\u001b[1;33m\u001b[0m\u001b[0m\n\u001b[0;32m     36\u001b[0m     \u001b[1;32mreturn\u001b[0m \u001b[0mpathStack\u001b[0m\u001b[1;33m\u001b[0m\u001b[0m\n\u001b[1;32m---> 37\u001b[1;33m \u001b[0mPath\u001b[0m\u001b[1;33m(\u001b[0m\u001b[1;36m8\u001b[0m\u001b[1;33m,\u001b[0m\u001b[1;36m8\u001b[0m\u001b[1;33m)\u001b[0m\u001b[1;33m\u001b[0m\u001b[0m\n\u001b[0m",
        "\u001b[1;32m<ipython-input-44-b2b0560a4083>\u001b[0m in \u001b[0;36mPath\u001b[1;34m(m, p, istart, jstart, pathStack)\u001b[0m\n\u001b[0;32m     32\u001b[0m                 \u001b[0mj\u001b[0m \u001b[1;33m+=\u001b[0m \u001b[0mdi\u001b[0m\u001b[1;33m[\u001b[0m\u001b[1;36m1\u001b[0m\u001b[1;33m]\u001b[0m\u001b[1;33m\u001b[0m\u001b[0m\n\u001b[0;32m     33\u001b[0m             \u001b[0mpathStack\u001b[0m\u001b[1;33m.\u001b[0m\u001b[0mPush\u001b[0m\u001b[1;33m(\u001b[0m\u001b[1;33m(\u001b[0m\u001b[0mi\u001b[0m\u001b[1;33m,\u001b[0m\u001b[0mj\u001b[0m\u001b[1;33m)\u001b[0m\u001b[1;33m)\u001b[0m\u001b[1;33m\u001b[0m\u001b[0m\n\u001b[1;32m---> 34\u001b[1;33m         \u001b[1;32mif\u001b[0m \u001b[0mfound\u001b[0m\u001b[1;33m:\u001b[0m\u001b[1;33m\u001b[0m\u001b[0m\n\u001b[0m\u001b[0;32m     35\u001b[0m             \u001b[1;32mbreak\u001b[0m\u001b[1;33m\u001b[0m\u001b[0m\n\u001b[0;32m     36\u001b[0m     \u001b[1;32mreturn\u001b[0m \u001b[0mpathStack\u001b[0m\u001b[1;33m\u001b[0m\u001b[0m\n",
        "\u001b[1;31mUnboundLocalError\u001b[0m: local variable 'found' referenced before assignment"
       ]
      },
      {
       "output_type": "stream",
       "stream": "stdout",
       "text": [
        "[[0 0 0 0 0 0 0 0 0]\n",
        " [0 0 0 0 0 0 0 0 0]\n",
        " [0 0 0 0 0 0 0 0 0]\n",
        " [0 0 0 0 0 0 0 0 0]\n",
        " [0 0 0 0 0 0 0 0 0]\n",
        " [0 0 0 0 0 0 0 0 0]\n",
        " [0 0 0 0 0 0 0 0 0]\n",
        " [0 0 0 0 0 0 0 0 0]\n",
        " [0 0 0 0 0 0 0 0 0]]\n"
       ]
      }
     ],
     "prompt_number": 44
    },
    {
     "cell_type": "code",
     "collapsed": false,
     "input": [],
     "language": "python",
     "metadata": {},
     "outputs": []
    }
   ],
   "metadata": {}
  }
 ]
}