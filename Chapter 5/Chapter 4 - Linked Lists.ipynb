{
 "metadata": {
  "name": "",
  "signature": "sha256:39a53a72dc62ff8212d2985faaecf8ec42f90bc5504cca23ac3ccab0faba2bcd"
 },
 "nbformat": 3,
 "nbformat_minor": 0,
 "worksheets": [
  {
   "cells": [
    {
     "cell_type": "heading",
     "level": 2,
     "metadata": {},
     "source": [
      "Class Definition for Tree and TreeNode - Page 252, Page 257"
     ]
    },
    {
     "cell_type": "code",
     "collapsed": false,
     "input": [
      "# Binary Tree Class\n",
      "\n",
      "class TreeNode:\n",
      "    def __init__(self, right = None, data = None, left = None):\n",
      "        \"\"\" Create a new TreeNode \"\"\"\n",
      "        self.data = data\n",
      "        self.rightChild = right\n",
      "        self.leftChild = left    \n",
      "\n",
      "class Tree:\n",
      "    def __init__(self, bt1 = None, ):\n",
      "        \"\"\" Create a new Binary Tree \"\"\"\n",
      "        self.root = None\n",
      "        \n",
      "    def LeftSubtree(self):\n",
      "        \"\"\" Return Left Sub Tree \"\"\"\n",
      "        return self.root.rightChild\n",
      "    \n",
      "    def RightSubtree(self):\n",
      "        \"\"\" Return Right Sub Tree \"\"\"\n",
      "        return self.root.leftChild\n",
      "    \n",
      "    def RootData(self):\n",
      "        \"\"\" Return the root data \"\"\"\n",
      "        return self.root.data\n",
      "    \n",
      "    def IsEmpty(self):\n",
      "        \"\"\" Returns True if Tree Node is empty \"\"\"\n",
      "        return self.root is None"
     ],
     "language": "python",
     "metadata": {},
     "outputs": [],
     "prompt_number": 3
    },
    {
     "cell_type": "heading",
     "level": 2,
     "metadata": {},
     "source": [
      "PROGRAM 5.1, PAGE 261"
     ]
    },
    {
     "cell_type": "code",
     "collapsed": false,
     "input": [
      "# Inorder Traversal of a binary Tree\n",
      "\n",
      "def _inorder(self, currentNode = None):\n",
      "    if currentNode is not None:\n",
      "        self.Inorder(currentNode.leftChild)\n",
      "        self.Visit(root)\n",
      "        self.Inorder(currentNode.rightChild)\n",
      "    elif self.root is None:\n",
      "        return None\n",
      "    else:\n",
      "        self.Inorder(self.root)\n",
      "        \n",
      "def _visit(self, Node):\n",
      "    return None if Node is None else Node.data\n",
      "\n",
      "Tree.Inorder = _inorder\n",
      "Tree.Visit = _visit"
     ],
     "language": "python",
     "metadata": {},
     "outputs": [],
     "prompt_number": 5
    },
    {
     "cell_type": "heading",
     "level": 2,
     "metadata": {},
     "source": [
      "PROGRAM 5.2, PAGE 263"
     ]
    },
    {
     "cell_type": "code",
     "collapsed": false,
     "input": [
      "# Preorder traversal of a binary tree\n",
      "\n",
      "def _preorder(self, currentNode = None):\n",
      "    if currentNode is not None:\n",
      "        self.Visit(root)\n",
      "        self.Preorder(currentNode.leftChild)        \n",
      "        self.Preorder(currentNode.rightChild)\n",
      "    elif self.root is None:\n",
      "        return None\n",
      "    else:\n",
      "        self.Preorder(self.root)\n",
      "        \n",
      "Tree.Preorder = _preorder"
     ],
     "language": "python",
     "metadata": {},
     "outputs": [],
     "prompt_number": 6
    },
    {
     "cell_type": "heading",
     "level": 2,
     "metadata": {},
     "source": [
      "PROGRAM 5.3, PAGE 263"
     ]
    },
    {
     "cell_type": "code",
     "collapsed": false,
     "input": [
      "# Postorder traversal of a binary tree\n",
      "\n",
      "def _postorder(self, currentNode = None):\n",
      "    if currentNode is not None:\n",
      "        self.Postorder(currentNode.leftChild)        \n",
      "        self.Postorder(currentNode.rightChild)\n",
      "        self.Visit(root)        \n",
      "    elif self.root is None:\n",
      "        return None\n",
      "    else:\n",
      "        self.Postorder(self.root)\n",
      "        \n",
      "Tree.Postorder = _postorder"
     ],
     "language": "python",
     "metadata": {},
     "outputs": [],
     "prompt_number": 7
    },
    {
     "cell_type": "heading",
     "level": 2,
     "metadata": {},
     "source": [
      "PROGRAM 5.4, PAGE 264"
     ]
    },
    {
     "cell_type": "code",
     "collapsed": false,
     "input": [
      "# Non recursive inorder traversal\n",
      "\n",
      "def _nonrecInorder(self):\n",
      "    \"\"\" Non Recursive inorder traversal using a stack \"\"\"\n",
      "    s = [] # Using Python List as a stack\n",
      "    currentNode = self.root\n",
      "    while True:\n",
      "        while currentNode is not None:  # move down leftChild field\n",
      "            s.append(currentNode)  # add to stack\n",
      "            currentNode = currentNode.leftChild\n",
      "        if s.IsEmpty():\n",
      "            return\n",
      "        \n",
      "        currentNode = s[-1]\n",
      "        s.pop() # delete from the stack\n",
      "        self.Visit(currentNode)\n",
      "        currentNode = currentNode.rightChild "
     ],
     "language": "python",
     "metadata": {},
     "outputs": [],
     "prompt_number": 8
    },
    {
     "cell_type": "code",
     "collapsed": false,
     "input": [],
     "language": "python",
     "metadata": {},
     "outputs": []
    }
   ],
   "metadata": {}
  }
 ]
}