{
 "metadata": {
  "name": "",
  "signature": "sha256:416cc5eac467b02ee7fcd9bfa02a2d12e6c0194ae3d7afc076f5c543703539a7"
 },
 "nbformat": 3,
 "nbformat_minor": 0,
 "worksheets": [
  {
   "cells": [
    {
     "cell_type": "heading",
     "level": 1,
     "metadata": {},
     "source": [
      "CHAPTER 2 - ARRAYS"
     ]
    },
    {
     "cell_type": "heading",
     "level": 2,
     "metadata": {},
     "source": [
      "PROGRAM 2.1, PAGE 75"
     ]
    },
    {
     "cell_type": "code",
     "collapsed": false,
     "input": [
      "#Definition of Class Rectangle\n",
      "import numpy\n",
      "\n",
      "class Rectangle:\n",
      "    def __init__(self,x=None,y=None,h=None,w=None):\n",
      "        '''Constructor of Rectangle'''\n",
      "        pass\n",
      "    def __del__(self):\n",
      "        '''Destructor of Rectangle'''\n",
      "        pass\n",
      "    def get_height(self):\n",
      "        '''returns Height of rectangle'''\n",
      "        pass\n",
      "    def get_width(self):\n",
      "        '''Returns Width of rectangle'''\n",
      "        pass\n",
      "    _x_low = None\n",
      "    _y_low = None\n",
      "    _height = None\n",
      "    _width = None\n",
      "    # In python attributes starting with an underscore are conventionaly understood to be private attributes."
     ],
     "language": "python",
     "metadata": {},
     "outputs": [],
     "prompt_number": 2
    },
    {
     "cell_type": "heading",
     "level": 2,
     "metadata": {},
     "source": [
      "PROGRAM 2.2, PAGE 76"
     ]
    },
    {
     "cell_type": "code",
     "collapsed": false,
     "input": [
      "# Implementations of Operations on Rectangle\n",
      "def get_height(self):\n",
      "    return self._height\n",
      "def get_width(self):\n",
      "    return self._width\n",
      "\n",
      "Rectangle.get_height = get_height\n",
      "Rectangle.get_width = get_width\n",
      "\n",
      "# This is the closest C++ equivalent to defining class methods outside the class. [ using class::member() {} ]\n",
      "\n",
      "# Though THIS IS NOT AN ACCEPTED PRACTICE IN PYTHON. This would be an workaround to define \n",
      "# the member functions outside of the class definition"
     ],
     "language": "python",
     "metadata": {},
     "outputs": [],
     "prompt_number": 3
    },
    {
     "cell_type": "heading",
     "level": 2,
     "metadata": {},
     "source": [
      "PROGRAM 2.4, PAGE 78"
     ]
    },
    {
     "cell_type": "code",
     "collapsed": false,
     "input": [
      "# Definition Of Constructor For Rectangle\n",
      "\n",
      "# NOTE: PROGRAM 2.4 [WHICH CONTAINS THE CONSTRUCTOR CLASS DEFINITION, DEFINED OUTSIDE THE CLASS]\n",
      "# MUST BE EXECUTED BEFORE PROGRAM 2.3 TO GET CORRECT RESULTS. SO THE ORDER HAS BEEN CHANGED TO FACILITATE THIS\n",
      "\n",
      "def constructor_for_Rectangle_class(self,x=None,y=None,h=None,w=None):\n",
      "    '''Constructor for class Rectangle'''\n",
      "    self._xLow = x\n",
      "    self._yLow = x\n",
      "    self._height = h\n",
      "    self._width = w\n",
      "    \n",
      "Rectangle.__init__ = constructor_for_Rectangle_class"
     ],
     "language": "python",
     "metadata": {},
     "outputs": [],
     "prompt_number": 4
    },
    {
     "cell_type": "heading",
     "level": 2,
     "metadata": {},
     "source": [
      "PROGRAM 2.3, PAGE 77"
     ]
    },
    {
     "cell_type": "code",
     "collapsed": false,
     "input": [
      "# A Code Fragment demonstrating how Rectangle objects are declared and member functions invoked\n",
      "r = Rectangle(1,2,5,6)\n",
      "s = Rectangle(1,2,8,9)\n",
      "\n",
      "# Values passed to initiate are not a part of the textbook example. This is required to avoid TypeError\n",
      "# The Type error when defined as r = Rectangle() [as given in textbook] will be as follows:\n",
      "# TypeError: unsupported operand type(s) for *: 'NoneType' and 'NoneType'\n",
      "\n",
      "t = s\n",
      "# NOTE: Python has no pointer implementation.\n",
      "\n",
      "if ( r.get_height() * r.get_width() ) > ( t.get_height() * t.get_width() ):\n",
      "    print 'r',\n",
      "else:\n",
      "    print 's',\n",
      "print 'has the greater area'"
     ],
     "language": "python",
     "metadata": {},
     "outputs": [
      {
       "output_type": "stream",
       "stream": "stdout",
       "text": [
        "s has the greater area\n"
       ]
      }
     ],
     "prompt_number": 5
    },
    {
     "cell_type": "markdown",
     "metadata": {},
     "source": [
      "----------\n",
      "Program 2.5 Skipped since Initialization through Member Initialization List [as in C++] is not possible in Python\n",
      "\n",
      "\n",
      "----------"
     ]
    },
    {
     "cell_type": "heading",
     "level": 2,
     "metadata": {},
     "source": [
      "PROGRAM 2.6, PAGE 80"
     ]
    },
    {
     "cell_type": "code",
     "collapsed": false,
     "input": [
      "# PROGRAM 2.6\n",
      "# Overloading Operator == For Class Rectangle\n",
      "\n",
      "# Operator == is specified as a function __eq__(op1,op2)\n",
      "\n",
      "def __eq__(self,rhs):\n",
      "    if (self._x_low == rhs._x_low) and (self._y_low == rhs._y_low) :\n",
      "        return True\n",
      "    else:\n",
      "        return False\n",
      "    \n",
      "# Overriding the default behaviour of == by defining a __eq__ memeber function\n",
      "Rectangle.__eq__ = __eq__\n",
      "\n",
      "# SAMPLE O/P\n",
      "print r == s"
     ],
     "language": "python",
     "metadata": {},
     "outputs": [
      {
       "output_type": "stream",
       "stream": "stdout",
       "text": [
        "True\n"
       ]
      }
     ],
     "prompt_number": 8
    },
    {
     "cell_type": "heading",
     "level": 2,
     "metadata": {},
     "source": [
      "PROGRAM 2.7, PAGE 80"
     ]
    },
    {
     "cell_type": "code",
     "collapsed": false,
     "input": [
      "# Overloading Operator << for Class Rectangle\n",
      "import operator, sys, io, IPython\n",
      "\n",
      "\n",
      "class MyStdout(IPython.kernel.zmq.iostream.OutStream):\n",
      "    \"\"\"\n",
      "    MyStdout class inherits from the OutStream of IPython kernel.\n",
      "    This is done to simulate the C++ OutStream \"cout\"\n",
      "    \"\"\"    \n",
      "    def __init__(self):\n",
      "        self.__dict__ = sys.stdout.__dict__.copy()\n",
      "        # All elements of sys.stdout are copied to the MyStdout [inherited class]\n",
      "\n",
      "    def __lshift__(self,rect_instance):\n",
      "        \"\"\"\n",
      "        lshift ( << ) operator is overloaded to allow printing of Rectangle\n",
      "        if isinstance(rect_instance, Rectangle):    \n",
      "            self.write('Position is:'+str(rect_instance._Rectangle__xLow)+' '+str(rect_instance._Rectangle__yLow))\n",
      "            self.write('\\nHeight is: '+str(rect_instance._Rectangle__height))\n",
      "            self.write('\\nWidth is: '+str(rect_instance._Rectangle__width))\n",
      "        else:\n",
      "            self.write(rect_instance)\n",
      "            \n",
      "# A new MyStdout Class inheriting the elements of stdout <file class> [OutStream Object Class] is created with the \n",
      "# overloaded operator function __lshift__. \n",
      "\n",
      "sys.stdout = MyStdout()\n",
      "\n",
      "#an instance of MyStdout is then assigned to sys.stdout\n",
      "\n",
      "#Operator << is specified as a function __lshift__() [Equivalent to c++ style 'operator<<'"
     ],
     "language": "python",
     "metadata": {},
     "outputs": [],
     "prompt_number": 7
    },
    {
     "cell_type": "code",
     "collapsed": false,
     "input": [
      "#Sample I/O - Not in Text Book\n",
      "# C++ Style I/O using << operator overloading in python !\n",
      "cout = sys.stdout\n",
      "endl = '\\n'\n",
      "\n",
      "cout<<r\n",
      "\n",
      "#r is an instance of the Rectangle Class Defined earlier\n",
      "\n",
      "cout<<endl\n",
      "cout<<'Sample Text to emphasize the fact that base functionality of sys.stdout remains unchanged'"
     ],
     "language": "python",
     "metadata": {},
     "outputs": [
      {
       "output_type": "stream",
       "stream": "stdout",
       "text": [
        "Position is:1 1\n",
        "Height is: 5\n",
        "Width is: 6\n",
        "Sample Text to emphasize the fact that base functionality of sys.stdout remains unchanged"
       ]
      }
     ],
     "prompt_number": 8
    },
    {
     "cell_type": "heading",
     "level": 2,
     "metadata": {},
     "source": [
      "ADT 2.1, PAGE NO 82"
     ]
    },
    {
     "cell_type": "code",
     "collapsed": false,
     "input": [
      "#Abstract Data Type NaturalNumber : \n",
      "class NaturalNumber():\n",
      "    def __init__(self,value = 0):\n",
      "        self.value = 0\n",
      "    def IsZero(self):\n",
      "        if self.__value__ == 0 : \n",
      "            return True\n",
      "        return False\n",
      "    def __add__(self,y):\n",
      "        '''overloading + operator'''\n",
      "        if isinstance(y, NaturalNumber):\n",
      "            return self.value + y.value\n",
      "        elif type(y) in [int, float, long]:\n",
      "            return self.value + int(y)\n",
      "        else:\n",
      "            raise(TypeError)\n",
      "    def __eq__(self,y):\n",
      "        '''overloading == operator'''\n",
      "        if isinstance(y, NaturalNumber):\n",
      "            return self.value == y.value\n",
      "        elif type(y) in [int,float,long]:\n",
      "            return self.value == y\n",
      "        else:\n",
      "            raise(TypeError)\n",
      "    def Successor(self):\n",
      "        return self.value+1\n",
      "#Python has no limit on number size [virtually]. The max no can be understood as \"inf\".\n",
      "    def __sub__(self,y):\n",
      "        '''overloading + operator'''\n",
      "        if isinstance(y, NaturalNumber):\n",
      "            res = self.value - y.value\n",
      "        elif type(y) in [int,float,long]:\n",
      "            res = self.value + y\n",
      "        else:\n",
      "            raise(TypeError)\n",
      "        return res if res >= 0 else 0\n"
     ],
     "language": "python",
     "metadata": {},
     "outputs": [],
     "prompt_number": 9
    },
    {
     "cell_type": "heading",
     "level": 2,
     "metadata": {},
     "source": [
      "ADT 2.2, PAGE 85"
     ]
    },
    {
     "cell_type": "code",
     "collapsed": false,
     "input": [
      "#Abstract Data Type GeneralArray\n",
      "defaultValue = 0\n",
      "class GeneralArray:\n",
      "    def __init__(self,j,List,initValue = defaultValue):\n",
      "        pass\n",
      "    def Retrieve(self,index):\n",
      "        pass\n",
      "    def Store(self,index,x):\n",
      "        x = float(x)\n",
      "        pass   "
     ],
     "language": "python",
     "metadata": {},
     "outputs": [],
     "prompt_number": 10
    },
    {
     "cell_type": "heading",
     "level": 2,
     "metadata": {},
     "source": [
      "ADT 2.3, PAGE 88 &nbsp; & &nbsp; PROGRAM 2.8, PAGE 91 &nbsp; & &nbsp; PROGRAM 2.9, PAGE 92"
     ]
    },
    {
     "cell_type": "code",
     "collapsed": false,
     "input": [
      "#Adding two Polynomials\n",
      "\n",
      "#Declaring and Defining Prerequisites Term and Polynomial\n",
      "\n",
      "#Class Terms to define a single term of a polynomial.\n",
      "\n",
      "#Refer Page 90\n",
      "class Term:\n",
      "    def __init__(self):\n",
      "        self.coef = 0.0\n",
      "        self.exp = 0\n",
      "\n",
      "#Abstract data type Polynomial - Representation 3 [ Refer Page 89 ]\n",
      "\n",
      "class Polynomial:\n",
      "    def __init__(self,d=0):\n",
      "        self.degree = d\n",
      "        self.coeff = [0.0]\n",
      "        self.termArray = []\n",
      "        self.terms = 0\n",
      "        pass\n",
      "\n",
      "#Method NewTerm to add a new term to the polynomial [ Refer Program 2.9, Page 92 ]\n",
      "\n",
      "    def NewTerm(self,theCoeff,theExp):\n",
      "        NewTrm = Term()\n",
      "        NewTrm.coef = theCoeff\n",
      "        NewTrm.exp = theExp\n",
      "        self.termArray.append(NewTrm)\n",
      "        self.terms += 1\n",
      "        self.degree = max(self.degree, theExp)        \n",
      "        \n",
      "#Method Add to add two polynomials\n",
      "\n",
      "    def Add(self,Polynomial_b):\n",
      "        if isinstance(Polynomial_b, Polynomial):\n",
      "            c = Polynomial()\n",
      "            aPos = 0\n",
      "            bPos = 0\n",
      "            while ( aPos<self.terms ) and ( bPos<Polynomial_b.terms ) :\n",
      "                #Similar Power terms\n",
      "                if termArray[aPos].exp == Polynomial_b.termArray[bPos].exp :\n",
      "                    t = float(termArray[aPos].coef) + float(Polynomial_b.termArray[bPos].coef)\n",
      "                    if t != 0 :\n",
      "                        c.NewTerm(t, self.termArray[aPos].exp)\n",
      "                        aPos += 1\n",
      "                        bPos += 1\n",
      "                #Dissimilar Power terms\n",
      "                elif termArray[aPos].exp < b.termArray[bPos].exp:\n",
      "                    c.NewTerm(Polynomial_b.termArray[bPos].coef,Polynomial_b.termArray[bPos].exp)\n",
      "                    bPos += 1\n",
      "                else:\n",
      "                    c.NewTerm(self.termArray[aPos].coef,self.termArray[aPos].exp)\n",
      "                    aPos += 1\n",
      "            #Leftover terms of a\n",
      "            while aPos < self.terms:\n",
      "                c.NewTerm(self.termArray[aPos].coef,self.termArray[aPos].exp)\n",
      "                aPos += 1\n",
      "            #Leftover terms of b\n",
      "            while bPos < Polynomial_b.terms:\n",
      "                c.NewTerm(Polynomial_b.termArray[bPos].coef,Polynomial_b.termArray[bPos].exp)\n",
      "                bPos += 1\n",
      "            #C contains the resulting polynomial\n",
      "            return c\n",
      "        else:\n",
      "            raise(TypeError)\n",
      "\n",
      "#     #Overloading Operator + to do the same funcition as Polynomial_a.Add(Polynomial_b)\n",
      "#     #NOTE - This is not a part of the Textbook code - This is added just to enhance usability\n",
      "\n",
      "    def __add__(self,Polynomial_b):\n",
      "        return Polynomial.Add(self,Polynomial_b) "
     ],
     "language": "python",
     "metadata": {},
     "outputs": [],
     "prompt_number": 11
    },
    {
     "cell_type": "heading",
     "level": 2,
     "metadata": {},
     "source": [
      "ADT 2.4, PAGE 97  "
     ]
    },
    {
     "cell_type": "code",
     "collapsed": false,
     "input": [
      "#Abstract Data Type SparseMatrix\n",
      "\n",
      "class MatrixTerm(object):\n",
      "    def __init__(self,row=None,col=None,value=None):\n",
      "        self.row = row\n",
      "        self.col = col\n",
      "        self.value = value\n",
      "\n",
      "class SparseMatrix(object):\n",
      "    '''A Set of triples <row, column, value>, where row and column are non-negative integers\n",
      "       and form a unique combination; value is also an integer '''\n",
      "    def __init__(self, r, c, t):\n",
      "        '''The constructor function creates a SparseMatrix with\n",
      "           r rows c columns and a capacity of t nonzero terms.'''\n",
      "        self._SparseMatrix__rows = r\n",
      "        self._SparseMatrix__cols = c\n",
      "        self._SparseMatrix__terms = t\n",
      "        self._SparseMatrix__capacity = t\n",
      "        self._SparseMatrix__smArray = []\n",
      "        for i in  range(t):\n",
      "            self._SparseMatrix__smArray.append(MatrixTerm())\n",
      "        #The self._SparseMatrix__<var_name> is used to call private members which have been declared by __<var_name>\n",
      "    def Transpose(self):\n",
      "        '''Returns the SparseMatrix obtained by interchanging the row \n",
      "           and the column value of every triple in self'''\n",
      "        #self is comparable with *this in c++\n",
      "        pass\n",
      "    def Add(self, b):\n",
      "        '''If the dimensions of self and b are the same, them the matrix produced by \n",
      "           adding corresponding items, namely those with identical row and column\n",
      "           values is returned; otherwise, an exception is thrown.'''\n",
      "        pass\n",
      "    def Multiply(self, b):\n",
      "        '''If the number of columns in self equals the number of rows in b then\n",
      "           the matrix d produced by multiplying self and b according to the formula\n",
      "           d[i][j] = summation of ( a[i][k].b[k][j] ), where d[i][j] is the (i,j)th element,\n",
      "           is returned.\n",
      "           k ranges from 0 to one less than the number of columns in self\n",
      "           otherwise an exception is thrown'''\n",
      "        pass"
     ],
     "language": "python",
     "metadata": {},
     "outputs": [],
     "prompt_number": 12
    },
    {
     "cell_type": "heading",
     "level": 2,
     "metadata": {},
     "source": [
      "PROGRAM 2.10, PAGE 100"
     ]
    },
    {
     "cell_type": "code",
     "collapsed": false,
     "input": [
      "#Transposing a Matrix\n",
      "def Transpose(self):\n",
      "    '''Returns the transpose of self'''\n",
      "    b = SparseMatrix(self._SparseMatrix__rows,self._SparseMatrix__cols,self._SparseMatrix__terms)\n",
      "    if(self._SparseMatrix__terms>0):\n",
      "        #Non Zero matrix\n",
      "        currentB = 0\n",
      "        for c in range(self._SparseMatrix__cols):\n",
      "            for i in range(self._SparseMatrix__terms):\n",
      "                #Find and move terms in column c\n",
      "                if self._SparseMatrix__smArray[i].col == c:\n",
      "                    term = MatrixTerm(c,self._SparseMatrix__smArray[i].row,self._SparseMatrix__smArray[i].value)\n",
      "                    b._SparseMatrix__smArray[currentB] = term\n",
      "                    currentB += 1\n",
      "        return b\n",
      "SparseMatrix.Transpose = Transpose"
     ],
     "language": "python",
     "metadata": {},
     "outputs": [],
     "prompt_number": 13
    },
    {
     "cell_type": "heading",
     "level": 2,
     "metadata": {},
     "source": [
      "PROGRAM 2.11, PAGE 102"
     ]
    },
    {
     "cell_type": "code",
     "collapsed": false,
     "input": [
      "#Transposing a Matrix faster\n",
      "\n",
      "def FastTranspose(self):\n",
      "    #Return the transpose of self in O(terms + cols) time.\n",
      "    #The rows and column numbers in each term will be swapped.\n",
      "    #This transposes self and copies the transposed matrix to b in O(terms + cols)\n",
      "    b = SparseMatrix(self._SparseMatrix__cols,self._SparseMatrix__rows,self._SparseMatrix__terms)\n",
      "    if self._SparseMatrix__terms>0:\n",
      "        cols = self._SparseMatrix__cols\n",
      "        terms = self._SparseMatrix__terms\n",
      "        smArray = self._SparseMatrix__smArray\n",
      "        rowSize = [0]*cols\n",
      "        rowStart = [0]*cols\n",
      "        for i in range(terms):    rowSize[smArray[i].col] += 1\n",
      "        rowStart[0] = 0\n",
      "        for i in range(1,cols):    rowStart[i] = rowStart[i-1] + rowSize[i-1]\n",
      "        for i in range(terms):\n",
      "            j = rowStart[smArray[i].col]\n",
      "            b._SparseMatrix__smArray[j].row = smArray[i].col\n",
      "            b._SparseMatrix__smArray[j].col = smArray[i].row\n",
      "            b._SparseMatrix__smArray[j].value = smArray[i].value\n",
      "            rowStart[smArray[i].col] += 1\n",
      "    return b\n",
      "SparseMatrix.FastTranspose = FastTranspose"
     ],
     "language": "python",
     "metadata": {},
     "outputs": [],
     "prompt_number": 14
    },
    {
     "cell_type": "code",
     "collapsed": false,
     "input": [
      "#Sample I/O - Not in Textbook\n",
      "\n",
      "def getMatrix(self,array):\n",
      "    try:\n",
      "        for i in range(len(array)):\n",
      "            tupl = array[i]\n",
      "            a._SparseMatrix__smArray[i] = MatrixTerm(tupl[0],tupl[1],tupl[2])\n",
      "    except Exception,e:\n",
      "        pass\n",
      "        \n",
      "def printMatrix(self):\n",
      "    bmat = numpy.zeros((self._SparseMatrix__rows,self._SparseMatrix__cols))\n",
      "    for term in self._SparseMatrix__smArray:\n",
      "        try:\n",
      "            bmat[term.row][term.col] = term.value\n",
      "        except Exception, e:\n",
      "            pass\n",
      "    print bmat\n",
      "\n",
      "a = SparseMatrix(7,7,5)\n",
      "getMatrix(a,[(1,2,8),(1,6,6),(3,2,3),(3,4,4),(5,4,5)])\n",
      "print  'Matrix a\\n'\n",
      "printMatrix(a)\n",
      "#tra = a.Transpose()\n",
      "tra = a.FastTranspose()\n",
      "print '\\nTranspose of a\\n'\n",
      "printMatrix(tra)"
     ],
     "language": "python",
     "metadata": {},
     "outputs": [
      {
       "output_type": "stream",
       "stream": "stdout",
       "text": [
        "Matrix a\n",
        "\n",
        "[[ 0.  0.  0.  0.  0.  0.  0.]\n",
        " [ 0.  0.  8.  0.  0.  0.  6.]\n",
        " [ 0.  0.  0.  0.  0.  0.  0.]\n",
        " [ 0.  0.  3.  0.  4.  0.  0.]\n",
        " [ 0.  0.  0.  0.  0.  0.  0.]\n",
        " [ 0.  0.  0.  0.  5.  0.  0.]\n",
        " [ 0.  0.  0.  0.  0.  0.  0.]]\n",
        "\n",
        "Transpose of a\n",
        "\n",
        "[[ 0.  0.  0.  0.  0.  0.  0.]\n",
        " [ 0.  0.  0.  0.  0.  0.  0.]\n",
        " [ 0.  8.  0.  3.  0.  0.  0.]\n",
        " [ 0.  0.  0.  0.  0.  0.  0.]\n",
        " [ 0.  0.  0.  4.  0.  5.  0.]\n",
        " [ 0.  0.  0.  0.  0.  0.  0.]\n",
        " [ 0.  6.  0.  0.  0.  0.  0.]]\n"
       ]
      }
     ],
     "prompt_number": 15
    },
    {
     "cell_type": "heading",
     "level": 2,
     "metadata": {},
     "source": [
      "PROGRAM 2.12, PAGE 103"
     ]
    },
    {
     "cell_type": "code",
     "collapsed": false,
     "input": [
      "#Storing a Matrix Term\n",
      "\n",
      "def StoreSum(self,Sum,r,c):\n",
      "    #If sum != 0, then it is stored along with r and c as last term in self\n",
      "    if Sum != 0:\n",
      "        if self._SparseMatrix__terms == self._SparseMatrix__capacity:\n",
      "            self.ChangeSize1D(2*self._SparseMatrix__capacity)\n",
      "        self._SparseMatrix__smArray[self._SparseMatrix__terms].row = r\n",
      "        self._SparseMatrix__smArray[self._SparseMatrix__terms].col = c\n",
      "        self._SparseMatrix__smArray[self._SparseMatrix__terms].value = Sum\n",
      "        self._SparseMatrix__terms += 1\n",
      "SparseMatrix.StoreSum = StoreSum"
     ],
     "language": "python",
     "metadata": {},
     "outputs": [],
     "prompt_number": 16
    },
    {
     "cell_type": "heading",
     "level": 2,
     "metadata": {},
     "source": [
      "PROGRAM 2.13, PAGE 104"
     ]
    },
    {
     "cell_type": "code",
     "collapsed": false,
     "input": [
      "#Change the Size of 1 - Dimensional array\n",
      "def ChangeSize1D(self, newSize):\n",
      "    #Change the size of smArray to newSize\n",
      "    if newSize < self._SparseMatrix__terms:\n",
      "        raise Exception('New Size must be >= number of terms')\n",
      "    for i in range(newSize - self._SparseMatrix__terms):\n",
      "        self._SparseMatrix__smArray.append(MatrixTerm())\n",
      "    self._SparseMatrix__capacity = newSize\n",
      "    if newSize == 0:\n",
      "        self._SparseMatrix__smArray.append(MatrixTerm())\n",
      "        self._SparseMatrix__capacity = 1\n",
      "SparseMatrix.ChangeSize1D = ChangeSize1D"
     ],
     "language": "python",
     "metadata": {},
     "outputs": [],
     "prompt_number": 17
    },
    {
     "cell_type": "heading",
     "level": 2,
     "metadata": {},
     "source": [
      "PROGRAM 2.14, PAGE 104 - 106"
     ]
    },
    {
     "cell_type": "code",
     "collapsed": false,
     "input": [
      "#Multiply Sparse Matrices\n",
      "\n",
      "def Multiply(self,b):\n",
      "    '''Return the product of sparse matrices self and b'''\n",
      "    \n",
      "    if self._SparseMatrix__cols != b._SparseMatrix__rows:\n",
      "        raise Exception('Incompatible Matrices')\n",
      "    bXpose = b.FastTranspose()\n",
      "    d = SparseMatrix(self._SparseMatrix__rows,b._SparseMatrix__cols,0)\n",
      "    currRowIndex = 0\n",
      "    currRowBegin = 0\n",
      "    currRowA = self._SparseMatrix__smArray[0].row\n",
      "    #Set boundary conditions\n",
      "    if self._SparseMatrix__terms == self._SparseMatrix__capacity:\n",
      "        self.ChangeSize1D(self._SparseMatrix__terms + 1)\n",
      "    bXpose.ChangeSize1D(bXpose._SparseMatrix__terms + 1)\n",
      "    self._SparseMatrix__smArray[self._SparseMatrix__terms].row = self._SparseMatrix__rows\n",
      "    bXpose._SparseMatrix__smArray[b._SparseMatrix__terms].row = b._SparseMatrix__cols\n",
      "    bXpose._SparseMatrix__smArray[b._SparseMatrix__terms].col = -1\n",
      "    Sum = 0\n",
      "    while currRowIndex < self._SparseMatrix__terms :\n",
      "        #Generate row currentRowA of d\n",
      "        currColB = bXpose._SparseMatrix__smArray[0].row\n",
      "        currColIndex = 0\n",
      "        while currColIndex <= b._SparseMatrix__terms:\n",
      "            #Multiply row currRowA of self by column currColB of b\n",
      "            if self._SparseMatrix__smArray[currRowIndex].row != currRowA:\n",
      "                #end of row currRowA\n",
      "                d.StoreSum(Sum,currRowA,currColB)\n",
      "                Sum = 0\n",
      "                #resets sum to 0\n",
      "                currRowIndex = currRowBegin\n",
      "                #Advance to next column\n",
      "                while bXpose._SparseMatrix__smArray[currColIndex].row == currColB:\n",
      "                    currColIndex += 1\n",
      "                currColB = bXpose._SparseMatrix__smArray[currColIndex].row\n",
      "            elif bXpose._SparseMatrix__smArray[currColIndex].row != currColB :\n",
      "                #End of column currColB of b\n",
      "                d.StoreSum(Sum,currRowA,currColB)\n",
      "                Sum = 0\n",
      "                #reset sum\n",
      "                #set to multiply row currRowA with next column\n",
      "                currRowIndex = currRowBegin\n",
      "                currColB = bXpose._SparseMatrix__smArray[currColIndex].row\n",
      "            elif self._SparseMatrix__smArray[currRowIndex].col < bXpose._SparseMatrix__smArray[currColIndex].col :\n",
      "                currRowIndex += 1\n",
      "            elif self._SparseMatrix__smArray[currRowIndex].col == bXpose._SparseMatrix__smArray[currColIndex].col :\n",
      "                #Add to sum\n",
      "                Sum += self._SparseMatrix__smArray[currColIndex].value * bXpose._SparseMatrix__smArray[currColIndex].value\n",
      "                currRowIndex += 1\n",
      "                currColIndex += 1\n",
      "            else: currColIndex += 1\n",
      "            #Next term in currColB\n",
      "        while self._SparseMatrix__smArray[currRowIndex].row == currRowA :\n",
      "            #Advance to next row\n",
      "            currRowIndex += 1\n",
      "        currRowBegin = currRowIndex\n",
      "        currRowA = self._SparseMatrix__smArray[currRowIndex].row\n",
      "    #To remove the last terms in a and d since the terms are empty:\n",
      "    d._SparseMatrix__smArray = d._SparseMatrix__smArray[:-1]\n",
      "    self._SparseMatrix__smArray = self._SparseMatrix__smArray[:-1]\n",
      "    return d\n",
      "SparseMatrix.Multiply = Multiply"
     ],
     "language": "python",
     "metadata": {},
     "outputs": [],
     "prompt_number": 18
    },
    {
     "cell_type": "code",
     "collapsed": false,
     "input": [
      "#Sample I/O, Not in textbook\n",
      "mult = a.Multiply(tra)\n",
      "print 'Matrix a is \\n'\n",
      "printMatrix(a)\n",
      "print '\\nMatrix a into a transpose is :\\n'\n",
      "printMatrix(mult)"
     ],
     "language": "python",
     "metadata": {},
     "outputs": [
      {
       "output_type": "stream",
       "stream": "stdout",
       "text": [
        "Matrix a is \n",
        "\n",
        "[[ 0.  0.  0.  0.  0.  0.  0.]\n",
        " [ 0.  0.  8.  0.  0.  0.  6.]\n",
        " [ 0.  0.  0.  0.  0.  0.  0.]\n",
        " [ 0.  0.  3.  0.  4.  0.  0.]\n",
        " [ 0.  0.  0.  0.  0.  0.  0.]\n",
        " [ 0.  0.  0.  0.  5.  0.  0.]\n",
        " [ 0.  0.  0.  0.  0.  0.  0.]]\n",
        "\n",
        "Matrix a into a transpose is :\n",
        "\n",
        "[[   0.    0.    0.    0.    0.    0.    0.]\n",
        " [   0.  100.    0.    9.    0.    0.    0.]\n",
        " [   0.    0.    0.    0.    0.    0.    0.]\n",
        " [   0.   64.    0.   25.    0.   25.    0.]\n",
        " [   0.    0.    0.    0.    0.    0.    0.]\n",
        " [   0.    0.    0.   16.    0.   25.    0.]\n",
        " [   0.    0.    0.    0.    0.    0.    0.]]\n"
       ]
      }
     ],
     "prompt_number": 19
    },
    {
     "cell_type": "heading",
     "level": 2,
     "metadata": {},
     "source": [
      "ADT 2.5, PAGE 114"
     ]
    },
    {
     "cell_type": "code",
     "collapsed": false,
     "input": [
      "#Abstract Datatype String\n",
      "class String(object):\n",
      "    def __init__(self,init):\n",
      "        #Constructor that initializes self to string init of length of m\n",
      "        self._String__Str = init\n",
      "        self._String__leng = len(init)\n",
      "        self.FailureFunction()\n",
      "    def __eq__(self,t):\n",
      "        #overloading == operators\n",
      "        if self._String__Str == t._String__t:\n",
      "            print True\n",
      "        else:\n",
      "            print False\n",
      "    def __not__(self):\n",
      "        if self._String__Length <= 0:\n",
      "            print True\n",
      "        else:\n",
      "            print False\n",
      "    def Length(self):\n",
      "        return self._String__leng\n",
      "    def Concat(self,t):\n",
      "        return self._String__Str + t\n",
      "    def Substr(self,i,j):\n",
      "        try:\n",
      "            substr = self._Strint__Str[i:i+j]\n",
      "            return substr\n",
      "        except IndexError:\n",
      "            print 'Invalid values for Substring'\n",
      "            return None\n",
      "    def Find(pat):\n",
      "        '''Returns an index i such that pat matches the substring of self that begins at position of i\n",
      "           Returns -1 if pat is either empty or not a substring'''\n",
      "        pass    "
     ],
     "language": "python",
     "metadata": {},
     "outputs": [],
     "prompt_number": 20
    },
    {
     "cell_type": "heading",
     "level": 2,
     "metadata": {},
     "source": [
      "PROGRAM 2.15, PAGE 115"
     ]
    },
    {
     "cell_type": "code",
     "collapsed": false,
     "input": [
      "#Exhaustive Pattern Matching\n",
      "def Find(self,pat):\n",
      "    '''Return -1 if pat does not occur in self\n",
      "       otherwise return the first position in self, where pat begins'''\n",
      "    for start in range(self.Length()-pat.Length()+1) :\n",
      "        #Check for match beginning at str[start]\n",
      "        for j in range(pat.Length()) :\n",
      "            if self._String__Str[start + j] != pat._String__Str[j]:\n",
      "                break\n",
      "            if j == pat.Length()-1:\n",
      "                #Match found\n",
      "                return start\n",
      "    #Pat is empty or does not occur in string:\n",
      "    return -1  \n",
      "\n",
      "#NOTE : The entire program can be implemented using python string function as follows: \n",
      "#def FindPythonImplementation(self,pat):\n",
      "#    return self._String__Str.find(pat)\n",
      "\n",
      "String.Find = Find\n",
      "#String.Find = FindPythonImplementation"
     ],
     "language": "python",
     "metadata": {},
     "outputs": [],
     "prompt_number": 21
    },
    {
     "cell_type": "heading",
     "level": 2,
     "metadata": {},
     "source": [
      "PROGRAM 2.16, PAGE 117"
     ]
    },
    {
     "cell_type": "code",
     "collapsed": false,
     "input": [
      "#Pattern Matching with a Failure Function\n",
      "def FastFind(self, pat):\n",
      "    '''Determine if pat is a substring in O( LengthP + LengthS )'''\n",
      "    posP = 0\n",
      "    posS = 0\n",
      "    lengthP = pat.Length()\n",
      "    lengthS = self.Length()\n",
      "    while ( posP < lengthP ) and ( posS < lengthS ):\n",
      "        if pat._String__Str[posP] == self._String__Str[posS] :\n",
      "            posP += 1\n",
      "            posS += 1\n",
      "        elif posP == 0:\n",
      "            posS += 1\n",
      "        else:\n",
      "            posP = pat.f[posP - 1] + 1\n",
      "    if posP < lengthP :\n",
      "        return -1\n",
      "    else:\n",
      "        return posS-lengthP\n",
      "String.FastFind = FastFind"
     ],
     "language": "python",
     "metadata": {},
     "outputs": [],
     "prompt_number": 22
    },
    {
     "cell_type": "heading",
     "level": 2,
     "metadata": {},
     "source": [
      "PROGRAM 2.17, PAGE 118"
     ]
    },
    {
     "cell_type": "code",
     "collapsed": false,
     "input": [
      "#Computing the failure function\n",
      "def FailureFunction(self):\n",
      "    lengthP = self.Length()\n",
      "    self.f = [0]*lengthP\n",
      "    self.f[0] = -1\n",
      "    for j in range(1,lengthP):\n",
      "        i = self.f[j-1]\n",
      "        while ( self._String__Str[j] != self._String__Str[i+1] ) and  ( i >= 0 ):\n",
      "            i = self.f[i]\n",
      "        if self._String__Str[j] == self._String__Str[i+1]:\n",
      "            self.f[j] = i + 1\n",
      "        else:\n",
      "            self.f[j-1] = -1\n",
      "String.FailureFunction = FailureFunction"
     ],
     "language": "python",
     "metadata": {},
     "outputs": [],
     "prompt_number": 23
    },
    {
     "cell_type": "code",
     "collapsed": false,
     "input": [
      "#Sample I/O - Not in textbook\n",
      "str1 = String('hello world')\n",
      "str2 = String('llo')\n",
      "print str1.Find(str2), str1.FastFind(str2)"
     ],
     "language": "python",
     "metadata": {},
     "outputs": [
      {
       "output_type": "stream",
       "stream": "stdout",
       "text": [
        "2 2\n"
       ]
      }
     ],
     "prompt_number": 24
    }
   ],
   "metadata": {}
  }
 ]
}