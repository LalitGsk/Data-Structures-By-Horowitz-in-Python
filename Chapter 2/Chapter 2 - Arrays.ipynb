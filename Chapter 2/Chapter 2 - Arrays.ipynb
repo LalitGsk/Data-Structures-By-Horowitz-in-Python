{
 "metadata": {
  "name": "",
  "signature": "sha256:a2dee3590c657d20d4f60fc971906fd8e3bb09e0d84430f1e92552da3cbd17e8"
 },
 "nbformat": 3,
 "nbformat_minor": 0,
 "worksheets": [
  {
   "cells": [
    {
     "cell_type": "heading",
     "level": 1,
     "metadata": {},
     "source": [
      "CHAPTER 2 - ARRAYS"
     ]
    },
    {
     "cell_type": "heading",
     "level": 2,
     "metadata": {},
     "source": [
      "PROGRAM 2.1, PAGE 75"
     ]
    },
    {
     "cell_type": "code",
     "collapsed": false,
     "input": [
      "%install_ext https://raw.githubusercontent.com/SiggyF/notebooks/master/pep8_magic.py\n",
      "%load_ext pep8_magic"
     ],
     "language": "python",
     "metadata": {},
     "outputs": [
      {
       "output_type": "stream",
       "stream": "stdout",
       "text": [
        "Installed pep8_magic.py. To use it, type:\n",
        "  %load_ext pep8_magic\n"
       ]
      }
     ],
     "prompt_number": 1
    },
    {
     "cell_type": "code",
     "collapsed": false,
     "input": [
      "#Definition of Class Rectangle\n",
      "import numpy\n",
      "\n",
      "class Rectangle:\n",
      "    def __init__(self,x=None,y=None,h=None,w=None):\n",
      "        '''Constructor of Rectangle'''\n",
      "        pass\n",
      "    def __del__(self):\n",
      "        '''Destructor of Rectangle'''\n",
      "        pass\n",
      "    def get_height(self):\n",
      "        '''returns Height of rectangle'''\n",
      "        pass\n",
      "    def get_width(self):\n",
      "        '''Returns Width of rectangle'''\n",
      "        pass\n",
      "    _x_low = None\n",
      "    _y_low = None\n",
      "    _height = None\n",
      "    _width = None\n",
      "    # In python attributes starting with an underscore are conventionaly understood to be private attributes."
     ],
     "language": "python",
     "metadata": {},
     "outputs": [],
     "prompt_number": 2
    },
    {
     "cell_type": "heading",
     "level": 2,
     "metadata": {},
     "source": [
      "PROGRAM 2.2, PAGE 76"
     ]
    },
    {
     "cell_type": "code",
     "collapsed": false,
     "input": [
      "# Implementations of Operations on Rectangle\n",
      "def get_height(self):\n",
      "    return self._height\n",
      "def get_width(self):\n",
      "    return self._width\n",
      "\n",
      "Rectangle.get_height = get_height\n",
      "Rectangle.get_width = get_width\n",
      "\n",
      "# This is the closest C++ equivalent to defining class methods outside the class. [ using class::member() {} ]\n",
      "\n",
      "# Though THIS IS NOT AN ACCEPTED PRACTICE IN PYTHON. This would be an workaround to define \n",
      "# the member functions outside of the class definition"
     ],
     "language": "python",
     "metadata": {},
     "outputs": [],
     "prompt_number": 3
    },
    {
     "cell_type": "heading",
     "level": 2,
     "metadata": {},
     "source": [
      "PROGRAM 2.4, PAGE 78"
     ]
    },
    {
     "cell_type": "code",
     "collapsed": false,
     "input": [
      "# Definition Of Constructor For Rectangle\n",
      "\n",
      "# NOTE: PROGRAM 2.4 [WHICH CONTAINS THE CONSTRUCTOR CLASS DEFINITION, DEFINED OUTSIDE THE CLASS]\n",
      "# MUST BE EXECUTED BEFORE PROGRAM 2.3 TO GET CORRECT RESULTS. SO THE ORDER HAS BEEN CHANGED TO FACILITATE THIS\n",
      "\n",
      "def constructor_for_Rectangle_class(self,x=None,y=None,h=None,w=None):\n",
      "    '''Constructor for class Rectangle'''\n",
      "    self._x_low = x\n",
      "    self._y_low = x\n",
      "    self._height = h\n",
      "    self._width = w\n",
      "    \n",
      "Rectangle.__init__ = constructor_for_Rectangle_class"
     ],
     "language": "python",
     "metadata": {},
     "outputs": [],
     "prompt_number": 4
    },
    {
     "cell_type": "heading",
     "level": 2,
     "metadata": {},
     "source": [
      "PROGRAM 2.3, PAGE 77"
     ]
    },
    {
     "cell_type": "code",
     "collapsed": false,
     "input": [
      "# A Code Fragment demonstrating how Rectangle objects are declared and member functions invoked\n",
      "r = Rectangle(1,2,5,6)\n",
      "s = Rectangle(1,2,8,9)\n",
      "\n",
      "t = s\n",
      "\n",
      "if ( r.get_height() * r.get_width() ) > ( t.get_height() * t.get_width() ):\n",
      "    print 'r',\n",
      "else:\n",
      "    print 's',\n",
      "\n",
      "print 'has the greater area'"
     ],
     "language": "python",
     "metadata": {},
     "outputs": [
      {
       "output_type": "stream",
       "stream": "stdout",
       "text": [
        "s has the greater area\n"
       ]
      }
     ],
     "prompt_number": 5
    },
    {
     "cell_type": "markdown",
     "metadata": {},
     "source": [
      "----------\n",
      "Program 2.5 Skipped since Initialization through Member Initialization List [as in C++] is not possible in Python\n",
      "\n",
      "\n",
      "----------"
     ]
    },
    {
     "cell_type": "heading",
     "level": 2,
     "metadata": {},
     "source": [
      "PROGRAM 2.6, PAGE 80"
     ]
    },
    {
     "cell_type": "code",
     "collapsed": false,
     "input": [
      "s._x_low"
     ],
     "language": "python",
     "metadata": {},
     "outputs": [
      {
       "metadata": {},
       "output_type": "pyout",
       "prompt_number": 6,
       "text": [
        "1"
       ]
      }
     ],
     "prompt_number": 6
    },
    {
     "cell_type": "code",
     "collapsed": false,
     "input": [
      "# PROGRAM 2.6\n",
      "# Overloading Operator == For Class Rectangle\n",
      "\n",
      "# Operator == is specified as a function __eq__(op1,op2)\n",
      "\n",
      "def __eq__(self,rhs):\n",
      "    if (self._x_low == rhs._x_low) and (self._y_low == rhs._y_low) and ( self._height == rhs._height ) and ( self._width == rhs._width ) :\n",
      "        return True\n",
      "    else:\n",
      "        return False\n",
      "    \n",
      "# Overriding the default behaviour of == by defining a __eq__ memeber function\n",
      "Rectangle.__eq__ = __eq__\n",
      "\n",
      "# SAMPLE O/P\n",
      "print r == s"
     ],
     "language": "python",
     "metadata": {},
     "outputs": [
      {
       "output_type": "stream",
       "stream": "stdout",
       "text": [
        "False\n"
       ]
      }
     ],
     "prompt_number": 7
    },
    {
     "cell_type": "heading",
     "level": 2,
     "metadata": {},
     "source": [
      "PROGRAM 2.7, PAGE 80"
     ]
    },
    {
     "cell_type": "code",
     "collapsed": false,
     "input": [
      "# Overloading Operator << for Class Rectangle\n",
      "import operator, sys, io, IPython\n",
      "\n",
      "\n",
      "class MyStdout(IPython.kernel.zmq.iostream.OutStream):\n",
      "    \"\"\"\n",
      "    MyStdout class inherits from the OutStream of IPython kernel.\n",
      "    This is done to simulate the C++ OutStream \"cout\"\n",
      "    \"\"\"    \n",
      "    def __init__(self):\n",
      "        self.__dict__ = sys.stdout.__dict__.copy()\n",
      "        # All elements of sys.stdout are copied to the MyStdout [inherited class]\n",
      "\n",
      "    def __lshift__(self,rect_instance):\n",
      "        # lshift ( << ) operator is overloaded to allow printing of Rectangle\n",
      "        \n",
      "        if isinstance(rect_instance, Rectangle):    \n",
      "            self.write('Position is:'+str(rect_instance._x_low)+' '+str(rect_instance._y_low))\n",
      "            self.write('\\nHeight is: '+str(rect_instance._height))\n",
      "            self.write('\\nWidth is: '+str(rect_instance._width))\n",
      "        else:\n",
      "            self.write(rect_instance)\n",
      "            \n",
      "# A new MyStdout Class inheriting the elements of stdout <file class> [OutStream Object Class] is created with the \n",
      "# overloaded operator function __lshift__. \n",
      "\n",
      "sys.stdout = MyStdout()\n",
      "\n",
      "#an instance of MyStdout is then assigned to sys.stdout\n",
      "\n",
      "#Operator << is specified as a function __lshift__() [Equivalent to c++ style 'operator<<'"
     ],
     "language": "python",
     "metadata": {},
     "outputs": [],
     "prompt_number": 8
    },
    {
     "cell_type": "code",
     "collapsed": false,
     "input": [
      "#Sample I/O - Not in Text Book\n",
      "# C++ Style I/O using << operator overloading in python !\n",
      "\n",
      "cout = sys.stdout\n",
      "endl = '\\n'\n",
      "\n",
      "cout<<r\n",
      "\n",
      "#r is an instance of the Rectangle Class Defined earlier\n",
      "\n",
      "cout<<endl\n",
      "cout<<'Sample Text to emphasize the fact that base functionality of sys.stdout remains unchanged'"
     ],
     "language": "python",
     "metadata": {},
     "outputs": [
      {
       "output_type": "stream",
       "stream": "stdout",
       "text": [
        "Position is:1 1\n",
        "Height is: 5\n",
        "Width is: 6\n",
        "Sample Text to emphasize the fact that base functionality of sys.stdout remains unchanged"
       ]
      }
     ],
     "prompt_number": 9
    },
    {
     "cell_type": "heading",
     "level": 2,
     "metadata": {},
     "source": [
      "ADT 2.1, PAGE NO 82"
     ]
    },
    {
     "cell_type": "code",
     "collapsed": false,
     "input": [
      "#Abstract Data Type NaturalNumber : \n",
      "class NaturalNumber():\n",
      "    def __init__(self,value = 0):\n",
      "        self.value = 0\n",
      "        \n",
      "    def is_zero(self):\n",
      "        if self.value == 0 : \n",
      "            return True\n",
      "        return False\n",
      "    \n",
      "    def __add__(self,y):\n",
      "        '''overloading + operator'''\n",
      "        if isinstance(y, NaturalNumber):\n",
      "            return self.value + y.value\n",
      "        elif type(y) in [int, float, long]:\n",
      "            return self.value + int(y)\n",
      "        else:\n",
      "            raise(TypeError)\n",
      "            \n",
      "    def __eq__(self,y):\n",
      "        '''overloading == operator'''\n",
      "        if isinstance(y, NaturalNumber):\n",
      "            return self.value == y.value\n",
      "        elif type(y) in [int,float,long]:\n",
      "            return self.value == y\n",
      "        else:\n",
      "            raise(TypeError)\n",
      "            \n",
      "    def successor(self):\n",
      "        return self.value+1\n",
      "    \n",
      "    # Python has no limit on number size [virtually]. The max no can be understood as \"inf\".\n",
      "    \n",
      "    def __sub__(self,y):\n",
      "        '''overloading + operator'''\n",
      "        if isinstance(y, NaturalNumber):\n",
      "            res = self.value - y.value\n",
      "        elif type(y) in [int,float,long]:\n",
      "            res = self.value + y\n",
      "        else:\n",
      "            raise(TypeError)\n",
      "        return res if res >= 0 else 0"
     ],
     "language": "python",
     "metadata": {},
     "outputs": [],
     "prompt_number": 10
    },
    {
     "cell_type": "heading",
     "level": 2,
     "metadata": {},
     "source": [
      "ADT 2.2, PAGE 85"
     ]
    },
    {
     "cell_type": "code",
     "collapsed": false,
     "input": [
      "#Abstract Data Type GeneralArray\n",
      "default_value = 0\n",
      "\n",
      "class GeneralArray:\n",
      "    def __init__(self, j, List, init_value = default_value):\n",
      "        pass\n",
      "    def retrieve(self,index):\n",
      "        pass\n",
      "    def store(self,index,x):\n",
      "        x = float(x)\n",
      "        pass   "
     ],
     "language": "python",
     "metadata": {},
     "outputs": [],
     "prompt_number": 11
    },
    {
     "cell_type": "heading",
     "level": 2,
     "metadata": {},
     "source": [
      "ADT 2.3, PAGE 88 &nbsp; & &nbsp; PROGRAM 2.8, PAGE 91 &nbsp; & &nbsp; PROGRAM 2.9, PAGE 92"
     ]
    },
    {
     "cell_type": "code",
     "collapsed": false,
     "input": [
      "# Adding two Polynomials\n",
      "\n",
      "# Declaring and Defining Prerequisites Term and Polynomial\n",
      "\n",
      "# Class Terms to define a single term of a polynomial.\n",
      "\n",
      "# Refer Page 90\n",
      "\n",
      "\n",
      "class Term:\n",
      "    def __init__(self):\n",
      "        self.coef = 0.0\n",
      "        self.exp = 0\n",
      "\n",
      "        \n",
      "# Abstract data type Polynomial - Representation 3 [ Refer Page 89 ]\n",
      "class Polynomial:\n",
      "    def __init__(self,d=0):\n",
      "        self.degree = d\n",
      "        self.coeff = [0.0]\n",
      "        self.term_array = []\n",
      "        self.terms = 0\n",
      "        pass\n",
      "\n",
      "    # Method new_term to add a new term to the polynomial [ Refer Program 2.9, Page 92 ]\n",
      "\n",
      "    def new_term(self,coef,exp):\n",
      "        NewTrm = Term()\n",
      "        NewTrm.coef = coef\n",
      "        NewTrm.exp = exp\n",
      "        pos = 0\n",
      "        # Compute the position of the new term ( sorted by exponents )\n",
      "        while ( pos < self.terms ) and ( self.term_array[pos].exp < NewTrm.exp ):\n",
      "            pos += 1\n",
      "            \n",
      "        # If there is already a term with the given exponent, add the coefficient\n",
      "        if ( pos < self.terms ) and ( self.term_array[pos].exp == NewTrm.exp ):\n",
      "            self.term_array[pos].coef += coef\n",
      "            return\n",
      "                \n",
      "        self.term_array.insert(pos, NewTrm)\n",
      "        self.terms += 1\n",
      "        self.degree = max(self.degree, exp)        \n",
      "        \n",
      "    # Method Add to add two polynomials\n",
      "\n",
      "    def add(self,Polynomial_b):\n",
      "        if isinstance(Polynomial_b, Polynomial):\n",
      "            c = Polynomial()\n",
      "            a_pos = 0\n",
      "            b_pos = 0\n",
      "            while ( a_pos < self.terms ) and ( b_pos < Polynomial_b.terms ) :\n",
      "                # Similar Power terms\n",
      "                if self.term_array[a_pos].exp == Polynomial_b.term_array[b_pos].exp :\n",
      "                    t = float(term_array[a_pos].coef) + float(Polynomial_b.term_array[b_pos].coef)\n",
      "                    if t != 0 :\n",
      "                        c.new_term(t, self.term_array[a_pos].exp)\n",
      "                        a_pos += 1\n",
      "                        b_pos += 1\n",
      "                        \n",
      "                # Dissimilar Power terms\n",
      "                elif self.term_array[a_pos].exp < Polynomial_b.term_array[b_pos].exp:\n",
      "                    c.new_term(Polynomial_b.term_array[b_pos].coef, Polynomial_b.term_array[b_pos].exp)\n",
      "                    b_pos += 1\n",
      "                else:\n",
      "                    c.new_term(self.term_array[a_pos].coef, self.term_array[a_pos].exp)\n",
      "                    c.display()\n",
      "                    a_pos += 1\n",
      "                    \n",
      "            # Leftover terms of a\n",
      "            while a_pos < self.terms:\n",
      "                c.new_term(self.term_array[a_pos].coef, self.term_array[a_pos].exp)\n",
      "                a_pos += 1\n",
      "                \n",
      "            # Leftover terms of b\n",
      "            while b_pos < Polynomial_b.terms:\n",
      "                c.new_term(Polynomial_b.term_array[b_pos].coef, Polynomial_b.term_array[b_pos].exp)\n",
      "                b_pos += 1\n",
      "                \n",
      "            # C contains the resulting polynomial\n",
      "            return c\n",
      "        else:\n",
      "            raise(TypeError)\n",
      "\n",
      "    # Overloading Operator + to do the same funcition as Polynomial_a.add(Polynomial_b)\n",
      "\n",
      "    def __add__(self,Polynomial_b):\n",
      "        return Polynomial.add(self,Polynomial_b)\n",
      "    \n",
      "    def display(self):\n",
      "        \"\"\"Display the polynomial using the latex display in IPython notebook. \n",
      "        Note that this works only inside IPython notebook\"\"\"\n",
      "        \n",
      "        from IPython.display import display, Math, Latex\n",
      "        \n",
      "        latex = \"{\"\n",
      "        \n",
      "        for t in reversed(self.term_array):\n",
      "            if t.coef >= 0 and latex != \"{\" :\n",
      "                latex += \" + \"\n",
      "                \n",
      "            if t.exp == 0:\n",
      "                latex += \" {coef} \".format(coef=t.coef)\n",
      "            elif t.exp == 1:\n",
      "                latex += \" {coef}x \".format(coef=t.coef)\n",
      "            else:\n",
      "                latex += \" {coef}x^{exp} \".format(coef=t.coef, exp=t.exp)\n",
      "            \n",
      "        latex += \"}\"\n",
      "        \n",
      "        display(Math(latex))"
     ],
     "language": "python",
     "metadata": {},
     "outputs": [],
     "prompt_number": 12
    },
    {
     "cell_type": "markdown",
     "metadata": {},
     "source": [
      "### Example Usage\n",
      "$f = {2.5x^2 - 3x + 5}$<br>\n",
      "$g = {3.2x^3 - 4x}$<br><br>\n",
      "$h = f + g$<br><br>\n",
      "$h = {3.2x^3 + 2.5x^2 - 7x + 5}$<br>"
     ]
    },
    {
     "cell_type": "code",
     "collapsed": false,
     "input": [
      "# Example Usage :\n",
      "\n",
      "f = Polynomial()\n",
      "f.new_term(2.5, 2); f.new_term(-3, 1); f.new_term(5,0)\n",
      "f .display()"
     ],
     "language": "python",
     "metadata": {},
     "outputs": [
      {
       "latex": [
        "$${ 2.5x^2  -3x  +  5 }$$"
       ],
       "metadata": {},
       "output_type": "display_data",
       "text": [
        "<IPython.core.display.Math at 0x7f8896377690>"
       ]
      }
     ],
     "prompt_number": 13
    },
    {
     "cell_type": "code",
     "collapsed": false,
     "input": [
      "g = Polynomial()\n",
      "g.new_term(3.2, 3); g.new_term(-4, 1);\n",
      "g.display()"
     ],
     "language": "python",
     "metadata": {},
     "outputs": [
      {
       "latex": [
        "$${ 3.2x^3  -4x }$$"
       ],
       "metadata": {},
       "output_type": "display_data",
       "text": [
        "<IPython.core.display.Math at 0x7f88963776d0>"
       ]
      }
     ],
     "prompt_number": 14
    },
    {
     "cell_type": "code",
     "collapsed": false,
     "input": [
      "h = f + g\n",
      "h.display()"
     ],
     "language": "python",
     "metadata": {},
     "outputs": [
      {
       "latex": [
        "$${ 3.2x^3  +  2.5x^2  -7x  +  5 }$$"
       ],
       "metadata": {},
       "output_type": "display_data",
       "text": [
        "<IPython.core.display.Math at 0x7f88acf67790>"
       ]
      }
     ],
     "prompt_number": 15
    },
    {
     "cell_type": "heading",
     "level": 2,
     "metadata": {},
     "source": [
      "ADT 2.4, PAGE 97  "
     ]
    },
    {
     "cell_type": "code",
     "collapsed": false,
     "input": [
      "# Abstract Data Type SparseMatrix\n",
      "\n",
      "class MatrixTerm(object):\n",
      "    def __init__(self,row=None,col=None,value=None):\n",
      "        self.row = row\n",
      "        self.col = col\n",
      "        self.value = value\n",
      "\n",
      "class SparseMatrix(object):\n",
      "    '''A Set of triples <row, column, value>, where row and column are non-negative integers\n",
      "       and form a unique combination; value is also an integer '''\n",
      "    def __init__(self, r, c, t):\n",
      "        '''The constructor function creates a SparseMatrix with\n",
      "           r rows c columns and a capacity of t nonzero terms.'''\n",
      "        self._rows = r\n",
      "        self._cols = c\n",
      "        self._terms = t\n",
      "        self._capacity = t\n",
      "        self._sm_array = []\n",
      "        for i in  range(t):\n",
      "            self._sm_array.append(MatrixTerm())\n",
      "        \n",
      "    def Transpose(self):\n",
      "        '''Returns the SparseMatrix obtained by interchanging the row \n",
      "           and the column value of every triple in self'''\n",
      "        # self is comparable with *this in c++\n",
      "        pass\n",
      "    \n",
      "    def add(self, b):\n",
      "        '''If the dimensions of self and b are the same, them the matrix produced by \n",
      "           adding corresponding items, namely those with identical row and column\n",
      "           values is returned; otherwise, an exception is thrown.'''\n",
      "        pass\n",
      "    \n",
      "    def Multiply(self, b):\n",
      "        '''If the number of columns in self equals the number of rows in b then\n",
      "           the matrix d produced by multiplying self and b according to the formula\n",
      "           d[i][j] = summation of ( a[i][k].b[k][j] ), where d[i][j] is the (i,j)th element,\n",
      "           is returned.\n",
      "           k ranges from 0 to one less than the number of columns in self\n",
      "           otherwise an exception is thrown'''\n",
      "        pass"
     ],
     "language": "python",
     "metadata": {},
     "outputs": [],
     "prompt_number": 16
    },
    {
     "cell_type": "heading",
     "level": 2,
     "metadata": {},
     "source": [
      "PROGRAM 2.10, PAGE 100"
     ]
    },
    {
     "cell_type": "code",
     "collapsed": false,
     "input": [
      "# Transposing a Matrix\n",
      "def transpose(self):\n",
      "    '''Returns the transpose of self'''\n",
      "    b = SparseMatrix(self._rows,self._cols,self._terms)\n",
      "    if(self._terms>0):\n",
      "        # Non Zero matrix\n",
      "        currentB = 0\n",
      "        for c in range(self._cols):\n",
      "            for i in range(self._terms):\n",
      "                # Find and move terms in column c\n",
      "                if self._sm_array[i].col == c:\n",
      "                    term = MatrixTerm(c,self._sm_array[i].row,self._sm_Array[i].value)\n",
      "                    b._sm_Array[currentB] = term\n",
      "                    currentB += 1\n",
      "        return b\n",
      "SparseMatrix.transpose = transpose"
     ],
     "language": "python",
     "metadata": {},
     "outputs": [],
     "prompt_number": 17
    },
    {
     "cell_type": "heading",
     "level": 2,
     "metadata": {},
     "source": [
      "PROGRAM 2.11, PAGE 102"
     ]
    },
    {
     "cell_type": "code",
     "collapsed": false,
     "input": [
      "# Transposing a Matrix faster\n",
      "\n",
      "def fast_transpose(self):\n",
      "    # Return the transpose of self in O(terms + cols) time.\n",
      "    # The rows and column numbers in each term will be swapped.\n",
      "    # This transposes self and copies the transposed matrix to b in O(terms + cols)\n",
      "    \n",
      "    b = SparseMatrix(self._cols, self._rows, self._terms)\n",
      "    \n",
      "    if self._terms>0:\n",
      "        cols = self._cols\n",
      "        terms = self._terms\n",
      "        sm_array = self._sm_array\n",
      "        row_size = [0]*cols\n",
      "        row_start = [0]*cols\n",
      "        for i in range(terms):    row_size[sm_array[i].col] += 1\n",
      "        row_start[0] = 0\n",
      "        for i in range(1,cols):    row_start[i] = row_start[i-1] + row_size[i-1]\n",
      "        for i in range(terms):\n",
      "            j = row_start[sm_array[i].col]\n",
      "            b._sm_array[j].row = sm_array[i].col\n",
      "            b._sm_array[j].col = sm_array[i].row\n",
      "            b._sm_array[j].value = sm_array[i].value\n",
      "            row_start[sm_array[i].col] += 1\n",
      "    return b\n",
      "\n",
      "SparseMatrix.fast_transpose = fast_transpose"
     ],
     "language": "python",
     "metadata": {},
     "outputs": [],
     "prompt_number": 18
    },
    {
     "cell_type": "code",
     "collapsed": false,
     "input": [
      "#Sample I/O - Not in Textbook\n",
      "\n",
      "def get_matrix(self,array):\n",
      "    try:\n",
      "        for i in range(len(array)):\n",
      "            tupl = array[i]\n",
      "            a._sm_array[i] = MatrixTerm(tupl[0],tupl[1],tupl[2])\n",
      "    except Exception,e:\n",
      "        pass\n",
      "        \n",
      "def print_matrix(self):\n",
      "    bmat = numpy.zeros((self._rows,self._cols))\n",
      "    for term in self._sm_array:\n",
      "        try:\n",
      "            bmat[term.row][term.col] = term.value\n",
      "        except Exception, e:\n",
      "            pass\n",
      "    print bmat\n",
      "\n",
      "a = SparseMatrix(7,7,5)\n",
      "get_matrix(a,[(1,2,8),(1,6,6),(3,2,3),(3,4,4),(5,4,5)])\n",
      "print  'Matrix a\\n'\n",
      "print_matrix(a)\n",
      "#tra = a.transpose()\n",
      "tra = a.fast_transpose()\n",
      "print '\\nTranspose of a\\n'\n",
      "print_matrix(tra)"
     ],
     "language": "python",
     "metadata": {},
     "outputs": [
      {
       "output_type": "stream",
       "stream": "stdout",
       "text": [
        "Matrix a\n",
        "\n",
        "[[ 0.  0.  0.  0.  0.  0.  0.]\n",
        " [ 0.  0.  8.  0.  0.  0.  6.]\n",
        " [ 0.  0.  0.  0.  0.  0.  0.]\n",
        " [ 0.  0.  3.  0.  4.  0.  0.]\n",
        " [ 0.  0.  0.  0.  0.  0.  0.]\n",
        " [ 0.  0.  0.  0.  5.  0.  0.]\n",
        " [ 0.  0.  0.  0.  0.  0.  0.]]\n",
        "\n",
        "Transpose of a\n",
        "\n",
        "[[ 0.  0.  0.  0.  0.  0.  0.]\n",
        " [ 0.  0.  0.  0.  0.  0.  0.]\n",
        " [ 0.  8.  0.  3.  0.  0.  0.]\n",
        " [ 0.  0.  0.  0.  0.  0.  0.]\n",
        " [ 0.  0.  0.  4.  0.  5.  0.]\n",
        " [ 0.  0.  0.  0.  0.  0.  0.]\n",
        " [ 0.  6.  0.  0.  0.  0.  0.]]\n"
       ]
      }
     ],
     "prompt_number": 19
    },
    {
     "cell_type": "heading",
     "level": 2,
     "metadata": {},
     "source": [
      "PROGRAM 2.12, PAGE 103"
     ]
    },
    {
     "cell_type": "code",
     "collapsed": false,
     "input": [
      "#Storing a Matrix Term\n",
      "\n",
      "def store_sum(self,Sum,r,c):\n",
      "    #If sum != 0, then it is stored along with r and c as last term in self\n",
      "    if Sum != 0:\n",
      "        if self._terms == self._capacity:\n",
      "            self.change_size_1D(2*self._capacity)\n",
      "        self._sm_array[self._terms].row = r\n",
      "        self._sm_array[self._terms].col = c\n",
      "        self._sm_array[self._terms].value = Sum\n",
      "        self._terms += 1\n",
      "SparseMatrix.store_sum = store_sum"
     ],
     "language": "python",
     "metadata": {},
     "outputs": [],
     "prompt_number": 20
    },
    {
     "cell_type": "heading",
     "level": 2,
     "metadata": {},
     "source": [
      "PROGRAM 2.13, PAGE 104"
     ]
    },
    {
     "cell_type": "code",
     "collapsed": false,
     "input": [
      "# Change the Size of 1 - Dimensional array\n",
      "def change_size_1D(self, new_size):\n",
      "    # Change the size of sm_array to new_size\n",
      "    if new_size < self._terms:\n",
      "        raise Exception('New Size must be >= number of terms')\n",
      "    for i in range(new_size - self._terms):\n",
      "        self._sm_array.append(MatrixTerm())\n",
      "    self._capacity = new_size\n",
      "    if new_size == 0:\n",
      "        self._sm_array.append(MatrixTerm())\n",
      "        self._capacity = 1\n",
      "        \n",
      "SparseMatrix.change_size_1D = change_size_1D"
     ],
     "language": "python",
     "metadata": {},
     "outputs": [],
     "prompt_number": 21
    },
    {
     "cell_type": "heading",
     "level": 2,
     "metadata": {},
     "source": [
      "PROGRAM 2.14, PAGE 104 - 106"
     ]
    },
    {
     "cell_type": "code",
     "collapsed": false,
     "input": [
      "# Multiply Sparse Matrices\n",
      "\n",
      "def multiply(self,b):\n",
      "    '''Return the product of sparse matrices self and b'''\n",
      "    \n",
      "    if self._cols != b._rows:\n",
      "        raise Exception('Incompatible Matrices')\n",
      "    bXpose = b.fast_transpose()\n",
      "    d = SparseMatrix(self._rows,b._cols,0)\n",
      "    curr_row_index = 0\n",
      "    curr_row_begin = 0\n",
      "    curr_row_a = self._sm_array[0].row\n",
      "    # Set boundary conditions\n",
      "    if self._terms == self._capacity:\n",
      "        self.change_size_1D(self._terms + 1)\n",
      "    bXpose.change_size_1D(bXpose._terms + 1)\n",
      "    self._sm_array[self._terms].row = self._rows\n",
      "    bXpose._sm_array[b._terms].row = b._cols\n",
      "    bXpose._sm_array[b._terms].col = -1\n",
      "    Sum = 0\n",
      "    while curr_row_index < self._terms :\n",
      "        # Generate row current_row_a of d\n",
      "        curr_col_b = bXpose._sm_array[0].row\n",
      "        curr_col_index = 0\n",
      "        while curr_col_index <= b._terms:\n",
      "            # Multiply row curr_row_a of self by column curr_col_b of b\n",
      "            if self._sm_array[curr_row_index].row != curr_row_a:\n",
      "                # End of row curr_row_a\n",
      "                d.store_sum(Sum,curr_row_a,curr_col_b)\n",
      "                Sum = 0\n",
      "                # Resets sum to 0\n",
      "                curr_row_index = curr_row_begin\n",
      "                # Advance to next column\n",
      "                while bXpose._sm_array[curr_col_index].row == curr_col_b:\n",
      "                    curr_col_index += 1\n",
      "                curr_col_b = bXpose._sm_array[curr_col_index].row\n",
      "            elif bXpose._sm_array[curr_col_index].row != curr_col_b :\n",
      "                # End of column curr_col_b of b\n",
      "                d.store_sum(Sum,curr_row_a,curr_col_b)\n",
      "                Sum = 0\n",
      "                # Reset sum\n",
      "                # Set to multiply row curr_row_a with next column\n",
      "                curr_row_index = curr_row_begin\n",
      "                curr_col_b = bXpose._sm_array[curr_col_index].row\n",
      "            elif self._sm_array[curr_row_index].col < bXpose._sm_array[curr_col_index].col :\n",
      "                curr_row_index += 1\n",
      "            elif self._sm_array[curr_row_index].col == bXpose._sm_array[curr_col_index].col :\n",
      "                # Add to sum\n",
      "                Sum += self._sm_array[curr_col_index].value * bXpose._sm_array[curr_col_index].value\n",
      "                curr_row_index += 1\n",
      "                curr_col_index += 1\n",
      "            else: curr_col_index += 1\n",
      "            # Next term in curr_col_b\n",
      "        while self._sm_array[curr_row_index].row == curr_row_a :\n",
      "            # Advance to next row\n",
      "            curr_row_index += 1\n",
      "        curr_row_begin = curr_row_index\n",
      "        curr_row_a = self._sm_array[curr_row_index].row\n",
      "    # To remove the last terms in a and d since the terms are empty:\n",
      "    d._sm_array = d._sm_array[:-1]\n",
      "    self._sm_array = self._sm_array[:-1]\n",
      "    return d\n",
      "\n",
      "SparseMatrix.multiply = multiply"
     ],
     "language": "python",
     "metadata": {},
     "outputs": [],
     "prompt_number": 22
    },
    {
     "cell_type": "code",
     "collapsed": false,
     "input": [
      "# Sample I/O, Not in textbook\n",
      "mult = a.multiply(tra)\n",
      "print 'Matrix a is \\n'\n",
      "print_matrix(a)\n",
      "print '\\nMatrix a into a transpose is :\\n'\n",
      "print_matrix(mult)"
     ],
     "language": "python",
     "metadata": {},
     "outputs": [
      {
       "output_type": "stream",
       "stream": "stdout",
       "text": [
        "Matrix a is \n",
        "\n",
        "[[ 0.  0.  0.  0.  0.  0.  0.]\n",
        " [ 0.  0.  8.  0.  0.  0.  6.]\n",
        " [ 0.  0.  0.  0.  0.  0.  0.]\n",
        " [ 0.  0.  3.  0.  4.  0.  0.]\n",
        " [ 0.  0.  0.  0.  0.  0.  0.]\n",
        " [ 0.  0.  0.  0.  5.  0.  0.]\n",
        " [ 0.  0.  0.  0.  0.  0.  0.]]\n",
        "\n",
        "Matrix a into a transpose is :\n",
        "\n",
        "[[   0.    0.    0.    0.    0.    0.    0.]\n",
        " [   0.  100.    0.    9.    0.    0.    0.]\n",
        " [   0.    0.    0.    0.    0.    0.    0.]\n",
        " [   0.   64.    0.   25.    0.   25.    0.]\n",
        " [   0.    0.    0.    0.    0.    0.    0.]\n",
        " [   0.    0.    0.   16.    0.   25.    0.]\n",
        " [   0.    0.    0.    0.    0.    0.    0.]]\n"
       ]
      }
     ],
     "prompt_number": 23
    },
    {
     "cell_type": "heading",
     "level": 2,
     "metadata": {},
     "source": [
      "ADT 2.5, PAGE 114"
     ]
    },
    {
     "cell_type": "code",
     "collapsed": false,
     "input": [
      "#Abstract Datatype String\n",
      "class String(object):\n",
      "    def __init__(self,init):\n",
      "        #Constructor that initializes self to string init of length of m\n",
      "        self._String__Str = init\n",
      "        self._String__leng = len(init)\n",
      "        self.FailureFunction()\n",
      "    def __eq__(self,t):\n",
      "        #overloading == operators\n",
      "        if self._String__Str == t._String__t:\n",
      "            print True\n",
      "        else:\n",
      "            print False\n",
      "    def __not__(self):\n",
      "        if self._String__Length <= 0:\n",
      "            print True\n",
      "        else:\n",
      "            print False\n",
      "    def Length(self):\n",
      "        return self._String__leng\n",
      "    def Concat(self,t):\n",
      "        return self._String__Str + t\n",
      "    def Substr(self,i,j):\n",
      "        try:\n",
      "            substr = self._Strint__Str[i:i+j]\n",
      "            return substr\n",
      "        except IndexError:\n",
      "            print 'Invalid values for Substring'\n",
      "            return None\n",
      "    def Find(pat):\n",
      "        '''Returns an index i such that pat matches the substring of self that begins at position of i\n",
      "           Returns -1 if pat is either empty or not a substring'''\n",
      "        pass    "
     ],
     "language": "python",
     "metadata": {},
     "outputs": [],
     "prompt_number": 24
    },
    {
     "cell_type": "heading",
     "level": 2,
     "metadata": {},
     "source": [
      "PROGRAM 2.15, PAGE 115"
     ]
    },
    {
     "cell_type": "code",
     "collapsed": false,
     "input": [
      "# Exhaustive Pattern Matching\n",
      "\n",
      "def Find(self,pat):\n",
      "    '''Return -1 if pat does not occur in self\n",
      "       otherwise return the first position in self, where pat begins'''\n",
      "    for start in range(self.Length()-pat.Length()+1) :\n",
      "        #Check for match beginning at str[start]\n",
      "        for j in range(pat.Length()) :\n",
      "            if self._String__Str[start + j] != pat._String__Str[j]:\n",
      "                break\n",
      "            if j == pat.Length()-1:\n",
      "                #Match found\n",
      "                return start\n",
      "    #Pat is empty or does not occur in string:\n",
      "    return -1  \n",
      "\n",
      "#NOTE : The entire program can be implemented using python string function as follows: \n",
      "#def FindPythonImplementation(self,pat):\n",
      "#    return self._String__Str.find(pat)\n",
      "\n",
      "String.Find = Find\n",
      "#String.Find = FindPythonImplementation"
     ],
     "language": "python",
     "metadata": {},
     "outputs": [],
     "prompt_number": 25
    },
    {
     "cell_type": "heading",
     "level": 2,
     "metadata": {},
     "source": [
      "PROGRAM 2.16, PAGE 117"
     ]
    },
    {
     "cell_type": "code",
     "collapsed": false,
     "input": [
      "#Pattern Matching with a Failure Function\n",
      "def fast_find(self, pat):\n",
      "    '''Determine if pat is a substring in O( LengthP + LengthS )'''\n",
      "    posP = 0\n",
      "    posS = 0\n",
      "    lengthP = pat.Length()\n",
      "    lengthS = self.Length()\n",
      "    \n",
      "    while ( posP < lengthP ) and ( posS < lengthS ):\n",
      "        if pat._String__Str[posP] == self._String__Str[posS] :\n",
      "            posP += 1\n",
      "            posS += 1\n",
      "        elif posP == 0:\n",
      "            posS += 1\n",
      "        else:\n",
      "            posP = pat.f[posP - 1] + 1\n",
      "    if posP < lengthP :\n",
      "        return -1\n",
      "    else:\n",
      "        return posS-lengthP\n",
      "    \n",
      "String.FastFind = fast_find"
     ],
     "language": "python",
     "metadata": {},
     "outputs": [],
     "prompt_number": 26
    },
    {
     "cell_type": "heading",
     "level": 2,
     "metadata": {},
     "source": [
      "PROGRAM 2.17, PAGE 118"
     ]
    },
    {
     "cell_type": "code",
     "collapsed": false,
     "input": [
      "# Computing the failure function\n",
      "\n",
      "def failure_function(self):\n",
      "    lengthP = self.Length()\n",
      "    self.f = [0]*lengthP\n",
      "    self.f[0] = -1\n",
      "    for j in range(1,lengthP):\n",
      "        i = self.f[j-1]\n",
      "        while ( self._String__Str[j] != self._String__Str[i+1] ) and  ( i >= 0 ):\n",
      "            i = self.f[i]\n",
      "        if self._String__Str[j] == self._String__Str[i+1]:\n",
      "            self.f[j] = i + 1\n",
      "        else:\n",
      "            self.f[j-1] = -1\n",
      "            \n",
      "String.failure_function = failure_function"
     ],
     "language": "python",
     "metadata": {},
     "outputs": [],
     "prompt_number": 30
    },
    {
     "cell_type": "code",
     "collapsed": false,
     "input": [
      "#Sample I/O - Not in textbook\n",
      "str1 = String('hello world')\n",
      "str2 = String('llo')\n",
      "print str1.find(str2), str1.fast_find(str2)"
     ],
     "language": "python",
     "metadata": {},
     "outputs": [
      {
       "output_type": "stream",
       "stream": "stdout",
       "text": [
        "2 2\n"
       ]
      }
     ],
     "prompt_number": 28
    }
   ],
   "metadata": {}
  }
 ]
}