{
 "metadata": {
  "name": ""
 },
 "nbformat": 3,
 "nbformat_minor": 0,
 "worksheets": [
  {
   "cells": [
    {
     "cell_type": "heading",
     "level": 1,
     "metadata": {},
     "source": [
      "CHAPTER 1 - BASIC CONCEPTS"
     ]
    },
    {
     "cell_type": "heading",
     "level": 2,
     "metadata": {},
     "source": [
      "PROGRAM 1.1, PAGE 17"
     ]
    },
    {
     "cell_type": "code",
     "collapsed": false,
     "input": [
      "#Output in C++\n",
      "\n",
      "#Variable Declaration\n",
      "\n",
      "n = 50\n",
      "f = 20.3\n",
      "\n",
      "#Result\n",
      "\n",
      "print('n: '+str(n))\n",
      "print('f: '+str(f))"
     ],
     "language": "python",
     "metadata": {},
     "outputs": [
      {
       "output_type": "stream",
       "stream": "stdout",
       "text": [
        "n: 50\n",
        "f: 20.3\n"
       ]
      }
     ],
     "prompt_number": 1
    },
    {
     "cell_type": "heading",
     "level": 2,
     "metadata": {},
     "source": [
      "PROGRAM 1.2, PAGE 18"
     ]
    },
    {
     "cell_type": "code",
     "collapsed": false,
     "input": [
      "#Input in C++\n",
      "\n",
      "a = input()\n",
      "b = input()\n",
      "\n",
      "#The input values are stored in a and b"
     ],
     "language": "python",
     "metadata": {},
     "outputs": [
      {
       "name": "stdout",
       "output_type": "stream",
       "stream": "stdout",
       "text": [
        "5\n"
       ]
      },
      {
       "name": "stdout",
       "output_type": "stream",
       "stream": "stdout",
       "text": [
        "6\n"
       ]
      }
     ],
     "prompt_number": 5
    },
    {
     "cell_type": "heading",
     "level": 2,
     "metadata": {},
     "source": [
      "PROGRAM 1.3, PAGE 19"
     ]
    },
    {
     "cell_type": "code",
     "collapsed": false,
     "input": [
      "#File I/O in C++\n",
      "\n",
      "try:\n",
      "    outFile = open('my.out','w')\n",
      "    \n",
      "#Variable Declaration\n",
      "\n",
      "    n = 50\n",
      "    f = 20.3\n",
      "\n",
      "#Result\n",
      "\n",
      "    outFile.write('n: '+str(n)+'\\n')\n",
      "    outFile.write('f: '+str(f)+'\\n')\n",
      "    outFile.close()\n",
      "    \n",
      "#Error handling\n",
      "\n",
      "except IOError:\n",
      "    print 'cannot open my.out'"
     ],
     "language": "python",
     "metadata": {},
     "outputs": [],
     "prompt_number": 3
    },
    {
     "cell_type": "heading",
     "level": 2,
     "metadata": {},
     "source": [
      "PROGRAM 1.4, PAGE 19"
     ]
    },
    {
     "cell_type": "code",
     "collapsed": false,
     "input": [
      "#An Example of a function\n",
      "\n",
      "#Max returns the maximum of two numbers passed to it\n",
      "def Max(a,b):\n",
      "    if(a>b):\n",
      "        return a\n",
      "    else:\n",
      "        return b"
     ],
     "language": "python",
     "metadata": {},
     "outputs": [],
     "prompt_number": 4
    },
    {
     "cell_type": "heading",
     "level": 2,
     "metadata": {},
     "source": [
      "PROGRAM 1.5, PAGE 23"
     ]
    },
    {
     "cell_type": "code",
     "collapsed": false,
     "input": [
      "#Throwing an exception of type char*\n",
      "def DivZero(a,b,c):\n",
      "    if a<=0 or b<=0 or c<=0 :\n",
      "        raise Exception('All parameters should be >0')\n",
      "#raise and exception when a or b or c = 0\n",
      "    return a+b*c+b/c"
     ],
     "language": "python",
     "metadata": {},
     "outputs": [],
     "prompt_number": 6
    },
    {
     "cell_type": "heading",
     "level": 2,
     "metadata": {},
     "source": [
      "PROGRAM 1.6, PAGE 24"
     ]
    },
    {
     "cell_type": "code",
     "collapsed": false,
     "input": [
      "#Catching an exception of type char*\n",
      "\n",
      "try:\n",
      "    print DivZero(2,0,4)\n",
      "except Exception, e:\n",
      "    print 'The parameters to DivZero were 2,0,4'\n",
      "    print 'An exception has been thrown'\n",
      "    print e"
     ],
     "language": "python",
     "metadata": {},
     "outputs": [
      {
       "output_type": "stream",
       "stream": "stdout",
       "text": [
        "The parameters to DivZero were 2,0,4\n",
        "An exception has been thrown\n",
        "All parameters should be >0\n"
       ]
      }
     ],
     "prompt_number": 7
    },
    {
     "cell_type": "heading",
     "level": 2,
     "metadata": {},
     "source": [
      "PROGRAM 1.8, PAGE 27"
     ]
    },
    {
     "cell_type": "code",
     "collapsed": false,
     "input": [
      "#Selection Sort\n",
      "\n",
      "def selsort(a,n):\n",
      "    for i in range(n):\n",
      "        j = i\n",
      "        for k in range(i+1,n):\n",
      "            if(a[k]<a[j]):\n",
      "                j = k\n",
      "        a[i],a[j] = a[j],a[i]\n",
      "#a[j] is the smallest no in a[i] to a[n-1]\n",
      "       \n",
      "#Sample I/O [ Not included in text book ]\n",
      "\n",
      "a = [5,4,3,2,1]\n",
      "selsort(a,len(a))\n",
      "print a"
     ],
     "language": "python",
     "metadata": {},
     "outputs": [
      {
       "output_type": "stream",
       "stream": "stdout",
       "text": [
        "[1, 2, 3, 4, 5]\n"
       ]
      }
     ],
     "prompt_number": 15
    },
    {
     "cell_type": "heading",
     "level": 2,
     "metadata": {},
     "source": [
      "PROGRAM 1.10, PAGE 28"
     ]
    },
    {
     "cell_type": "code",
     "collapsed": false,
     "input": [
      "#Binary search\n",
      "\n",
      "#Seach the sorted array a[0] to a[n-1] for x\n",
      "def BinarySearch(a,x,n):\n",
      "    left = 0\n",
      "    right = n-1\n",
      "    while left <= right:\n",
      "#While there are more elements to search\n",
      "        middle = (left + right)/2\n",
      "        if x<a[middle]:\n",
      "            right = middle - 1\n",
      "        elif x>a[middle]:\n",
      "            left = middle + 1\n",
      "        else: \n",
      "            return middle\n",
      "#Returns index (starting from 0) of the element in the array.\n",
      "        \n",
      "#If not found\n",
      "    return -1\n",
      "\n",
      "#Example [ not included in text]\n",
      "\n",
      "a = [1,3,4,5,65,7,2234,23,32,342]\n",
      "n = len(a)\n",
      "x = 65\n",
      "\n",
      "print BinarySearch(a,x,n)"
     ],
     "language": "python",
     "metadata": {},
     "outputs": [
      {
       "output_type": "stream",
       "stream": "stdout",
       "text": [
        "4\n"
       ]
      }
     ],
     "prompt_number": 19
    },
    {
     "cell_type": "heading",
     "level": 2,
     "metadata": {},
     "source": [
      "PROGRAM 1.11, PAGE 31"
     ]
    },
    {
     "cell_type": "code",
     "collapsed": false,
     "input": [
      "#Recursive implemenation of binary search\n",
      "\n",
      "#Search sorted array a[left] ... a[right] for x\n",
      "def BinarySearch(a,x,left,right):\n",
      "    if left<=right:\n",
      "        middle = (left + right)/2\n",
      "        if x<a[middle]:\n",
      "            return BinarySearch(a,x,left,middle-1)\n",
      "        elif x>a[middle]:\n",
      "            return BinarySearch(a,x,middle+1,right)\n",
      "        else:\n",
      "            return middle\n",
      "#If the value is not found\n",
      "    else:\n",
      "        return -1\n",
      "\n",
      "print BinarySearch(a,x,0,n-1)"
     ],
     "language": "python",
     "metadata": {},
     "outputs": [
      {
       "output_type": "stream",
       "stream": "stdout",
       "text": [
        "4\n"
       ]
      }
     ],
     "prompt_number": 28
    },
    {
     "cell_type": "heading",
     "level": 2,
     "metadata": {},
     "source": [
      "PROGRAM 1.12, PAGE 32"
     ]
    },
    {
     "cell_type": "code",
     "collapsed": false,
     "input": [
      "#Recursive Permutation generator\n",
      "\n",
      "import sys\n",
      "#sys contains the output stream stdout\n",
      "\n",
      "#Generate all permutations of a[k] .... a[m]\n",
      "def Permutations(a,k,m):\n",
      "    if k == m:\n",
      "        for i in range (m+1):\n",
      "            sys.stdout.write(str(a[i])+' ')\n",
      "        sys.stdout.write('\\n')\n",
      "    else:\n",
      "#a[k:m] has more than one permutation. Generate these recursively\n",
      " \n",
      "    \n",
      "    for i in range (k,m+1):\n",
      "            a[k],a[i] = a[i],a[k]\n",
      "            Permutations(a,k+1,m)\n",
      "            a[k],a[i] = a[i],a[k]\n",
      "            \n",
      "#Sample I/O [Not included in textbook]\n",
      "a = [1,5,2]\n",
      "Permutations(a,0,len(a)-1)"
     ],
     "language": "python",
     "metadata": {},
     "outputs": [
      {
       "output_type": "stream",
       "stream": "stdout",
       "text": [
        "1 5 2 \n",
        "1 2 5 \n",
        "5 1 2 \n",
        "5 2 1 \n",
        "2 5 1 \n",
        "2 1 5 \n"
       ]
      }
     ],
     "prompt_number": 2
    },
    {
     "cell_type": "heading",
     "level": 2,
     "metadata": {},
     "source": [
      "PROGRAM 1.13, PAGE 35"
     ]
    },
    {
     "cell_type": "code",
     "collapsed": false,
     "input": [
      "#Compute the product of the elements a[0:n-1]\n",
      "\n",
      "import operator\n",
      "\n",
      "def accumulate(a,start,end,initialValue,op):\n",
      "#returns op(sum or product or difference etc ) of values\n",
      "\n",
      "#since python does not have mechanism for pointer implementations\n",
      "#array implementation of accumulate is done\n",
      "#start -> index of first element of array a\n",
      "#end -> index of last element of array a\n",
      "\n",
      "    for e in range(start,end+1):\n",
      "        initialValue = op(initialValue,a[e])\n",
      "    return initialValue\n",
      "\n",
      "#Returns the product of numbers a[0] ... a[n-1]\n",
      "def Product(a,n):\n",
      "    initVal = 1\n",
      "    return accumulate(a,0,n-1,initVal,operator.mul)"
     ],
     "language": "python",
     "metadata": {},
     "outputs": [],
     "prompt_number": 3
    },
    {
     "cell_type": "heading",
     "level": 2,
     "metadata": {},
     "source": [
      "PROGRAM 1.14, PAGE 36"
     ]
    },
    {
     "cell_type": "code",
     "collapsed": false,
     "input": [
      "#Permutations using the STL algorithm next_permutation\n",
      "\n",
      "import itertools\n",
      "\n",
      "#contains support for permutations() which is python equivalent of \n",
      "#C++ STL function next_permutation\n",
      "\n",
      "class next_permutation_generator(object):\n",
      "    def __init__(self, a,m ):\n",
      "        self.permutation_iterator = itertools.permutations(\"\".join(c for c in a[:m]))\n",
      "    def __call__(self, a,m):\n",
      "        '''Returns True if next permutation of a exists'''\n",
      "        try:\n",
      "            del a[:]\n",
      "            for c in next(self.permutation_iterator):\n",
      "                a.append(c)\n",
      "            return True\n",
      "        except StopIteration:\n",
      "            return False\n",
      "\n",
      "def Permutations(a,m):\n",
      "    '''Print all permutations of a[0:m]'''\n",
      "    a= list(a)\n",
      "#converts string a to list a to facilitate inplace computation\n",
      "#so as to make next_permutation functionally similar to \n",
      "#call by reference function in C++\n",
      "    next_permutation = next_permutation_generator(a,m) \n",
      "\n",
      "    while next_permutation(a,m):\n",
      "        print \"\".join(c for c in a)\n",
      "        \n",
      "#sample I/O  [ Not included in textbook]\n",
      "Permutations('ABCDEF',3)"
     ],
     "language": "python",
     "metadata": {},
     "outputs": [
      {
       "output_type": "stream",
       "stream": "stdout",
       "text": [
        "ABC\n",
        "ACB\n",
        "BAC\n",
        "BCA\n",
        "CAB\n",
        "CBA\n"
       ]
      }
     ],
     "prompt_number": 4
    },
    {
     "cell_type": "heading",
     "level": 2,
     "metadata": {},
     "source": [
      "PROGRAM 1.6, PAGE 38"
     ]
    },
    {
     "cell_type": "code",
     "collapsed": false,
     "input": [
      "#Function to compute a+b+b*c+(a+b-c)/(a+b)+4.0\n",
      "\n",
      "def Abc(a,b,c):\n",
      "    a = float(a)\n",
      "    b = float(b)\n",
      "    c = float(c)\n",
      "    return a+b+b*c+(a+b-c)/(a+b)+4.0"
     ],
     "language": "python",
     "metadata": {},
     "outputs": [],
     "prompt_number": 5
    },
    {
     "cell_type": "heading",
     "level": 2,
     "metadata": {},
     "source": [
      "PROGRAM 1.17, PAGE 39"
     ]
    },
    {
     "cell_type": "code",
     "collapsed": false,
     "input": [
      "#Iterative function for sum\n",
      "\n",
      "def Sum(a,n):\n",
      "    s = 0\n",
      "    for i in range(n):\n",
      "        s += a[i]\n",
      "    return s"
     ],
     "language": "python",
     "metadata": {},
     "outputs": [],
     "prompt_number": 6
    },
    {
     "cell_type": "heading",
     "level": 2,
     "metadata": {},
     "source": [
      "PROGRAM 1.18, PAGE 39"
     ]
    },
    {
     "cell_type": "code",
     "collapsed": false,
     "input": [
      "#Recursive function for sum\n",
      "def Rsum(a,n):\n",
      "    if n<=0:\n",
      "        return 0\n",
      "    else:\n",
      "        return Rsum(a,n-1)+a[n-1]"
     ],
     "language": "python",
     "metadata": {},
     "outputs": [],
     "prompt_number": 7
    },
    {
     "cell_type": "heading",
     "level": 2,
     "metadata": {},
     "source": [
      "PROGRAM 1.19, PAGE 44"
     ]
    },
    {
     "cell_type": "code",
     "collapsed": false,
     "input": [
      "#Program 1.17 with count statements added (to compute time complexity)\n",
      "count = 0\n",
      "def Sum(a,n):\n",
      "    s = 0\n",
      "    global count\n",
      "    count += 1\n",
      "    for i in range(n):\n",
      "        count += 1    #for for loop\n",
      "        s += a[i]\n",
      "        count += 1    #for assignment\n",
      "    count += 1        #for last time of for\n",
      "    count += 1        #for return\n",
      "    return s"
     ],
     "language": "python",
     "metadata": {},
     "outputs": [],
     "prompt_number": 8
    },
    {
     "cell_type": "heading",
     "level": 2,
     "metadata": {},
     "source": [
      "PROGRAM 1.20, PAGE 44"
     ]
    },
    {
     "cell_type": "code",
     "collapsed": false,
     "input": [
      "#Simplified version of Program 1.19\n",
      "\n",
      "count = 0\n",
      "def Sum(a,n):\n",
      "    s =0\n",
      "    global count\n",
      "    for i in range(n):\n",
      "        s += a[i]\n",
      "        count +=2\n",
      "    count +=3\n",
      "    return s"
     ],
     "language": "python",
     "metadata": {},
     "outputs": [],
     "prompt_number": 26
    },
    {
     "cell_type": "heading",
     "level": 2,
     "metadata": {},
     "source": [
      "PROGRAM 1.21, PAGE 45"
     ]
    },
    {
     "cell_type": "code",
     "collapsed": false,
     "input": [
      "#Program 1.18 with count statements added\n",
      "count = 0\n",
      "def Rsum(a,n):\n",
      "    if n<=0:\n",
      "        global count\n",
      "        count += 1     # for return\n",
      "        return 0\n",
      "    else:\n",
      "        count += 1     # for return\n",
      "        return Rsum(a,n-1)+a[n-1]"
     ],
     "language": "python",
     "metadata": {},
     "outputs": [],
     "prompt_number": 34
    },
    {
     "cell_type": "heading",
     "level": 2,
     "metadata": {},
     "source": [
      "PROGRAM 1.22, PAGE 46"
     ]
    },
    {
     "cell_type": "code",
     "collapsed": false,
     "input": [
      "#Matrix Addition\n",
      "def Add(a,b,c,m,n):\n",
      "    for i in range(m):\n",
      "        c.__setitem__(i, [ a[i,j]+b[i,j] for j in range(n)])\n",
      "        #Inplace assignment (__setitem__) for C++ style call by reference\n",
      "\n",
      "#Sample I/O - [Not given in textbook]\n",
      "\n",
      "a = [[1,2,3],[4,5,6],[7,8,9]]\n",
      "b = [[1,2,3],[4,5,6],[7,8,9]]\n",
      "c =[[],[],[]]\n",
      "Add(a,b,c,3,3)\n",
      "c = np.array(c,float)\n",
      "print c"
     ],
     "language": "python",
     "metadata": {},
     "outputs": [
      {
       "output_type": "stream",
       "stream": "stdout",
       "text": [
        "[[  2.   4.   6.]\n",
        " [  8.  10.  12.]\n",
        " [ 14.  16.  18.]]\n"
       ]
      }
     ],
     "prompt_number": 38
    },
    {
     "cell_type": "heading",
     "level": 2,
     "metadata": {},
     "source": [
      "PROGRAM 1.23, PAGE 47"
     ]
    },
    {
     "cell_type": "code",
     "collapsed": false,
     "input": [
      "#Matrix addition with counting statements\n",
      "\n",
      "def Add(a,b,c,m,n):\n",
      "    global count\n",
      "    count += 1\n",
      "    #for for loop i\n",
      "    for i in range(m):\n",
      "        count += 1    #for for loop j\n",
      "        s = [a[i,j]+b[i,j] for j in range(n)]\n",
      "        c.__setitem__(i,s)\n",
      "        count += 1    #for assignment\n",
      "        count += 1 #for last time for j\n",
      "    count += 1 #for last time for i    "
     ],
     "language": "python",
     "metadata": {},
     "outputs": [],
     "prompt_number": 39
    },
    {
     "cell_type": "heading",
     "level": 2,
     "metadata": {},
     "source": [
      "PROGRAM 1.24, PAGE 47"
     ]
    },
    {
     "cell_type": "code",
     "collapsed": false,
     "input": [
      "#Simplified program with counting only\n",
      "\n",
      "def Add(a,b,c,m,n):\n",
      "    global count\n",
      "    for i in range(m):\n",
      "        for j in range(n):\n",
      "            count += 2\n",
      "        count += 2\n",
      "    count += 1"
     ],
     "language": "python",
     "metadata": {},
     "outputs": []
    },
    {
     "cell_type": "heading",
     "level": 2,
     "metadata": {},
     "source": [
      "PROGRAM 1.25, PAGE 50"
     ]
    },
    {
     "cell_type": "code",
     "collapsed": false,
     "input": [
      "#Fibonacci Numbers\n",
      "def Fibonacci(n):\n",
      "    '''Compute the Fibonacci number Fn'''\n",
      "    if n<= 1:\n",
      "        print n   #F0 = 0 and F1 = 1\n",
      "    else:\n",
      "        #Compute Fn\n",
      "        fnm2 = 0\n",
      "        fnm1 = 1\n",
      "        for i in range(2,n+1):\n",
      "            fn = fnm1 + fnm2\n",
      "            fnm2 = fnm1\n",
      "            fnm1 = fn\n",
      "        print fn\n",
      "        \n",
      "#Sample I/O [Not in textbook]\n",
      "Fibonacci(7)"
     ],
     "language": "python",
     "metadata": {},
     "outputs": [
      {
       "output_type": "stream",
       "stream": "stdout",
       "text": [
        "13\n"
       ]
      }
     ],
     "prompt_number": 43
    },
    {
     "cell_type": "heading",
     "level": 2,
     "metadata": {},
     "source": [
      "PROGRAM 1.26, PAGE 58"
     ]
    },
    {
     "cell_type": "code",
     "collapsed": false,
     "input": [
      "#Magic Square\n",
      "\n",
      "import numpy as np\n",
      "\n",
      "def Magic(n):\n",
      "    '''Create a magic square of size n,n is odd'''\n",
      "    MaxSize = 51\n",
      "    \n",
      "    #Check correctness of n\n",
      "    if (n>MaxSize) or (n<1):\n",
      "        raise Exception('Error!..n out of range')\n",
      "    elif (n%2) == 0:\n",
      "        raise Exception('Error!..n is even')\n",
      "    \n",
      "    #n is odd. Coxeter's rule can be applied\n",
      "    square = np.zeros((n,n))\n",
      "    square[0][(n-1)/2] = 1\n",
      "    #middle row of 1st element\n",
      "            \n",
      "    # i and j are current positions\n",
      "    key = 2\n",
      "    i = 0\n",
      "    j = (n-1)/2\n",
      "    nsquared = n*n\n",
      "    while key <= nsquared:\n",
      "        #Move up and left\n",
      "        k = (n-1) if (i-1)<0 else (i-1)\n",
      "        l = (n-1) if (j-1)<0 else (j-1)\n",
      "        if square[k][l] != 0 :    #if square occupied, move down\n",
      "            i = (i+1)%n\n",
      "        else:\n",
      "            #Square is unoccupied\n",
      "            i = k\n",
      "            j = l\n",
      "        square[i][j] = key\n",
      "        key +=  1\n",
      "    print 'magic square of size', n\n",
      "    print square\n",
      "\n",
      "#Sample I/O [ Not in textbook ]\n",
      "Magic(5)\n"
     ],
     "language": "python",
     "metadata": {},
     "outputs": [
      {
       "output_type": "stream",
       "stream": "stdout",
       "text": [
        "magic square of size 5\n",
        "[[ 15.   8.   1.  24.  17.]\n",
        " [ 16.  14.   7.   5.  23.]\n",
        " [ 22.  20.  13.   6.   4.]\n",
        " [  3.  21.  19.  12.  10.]\n",
        " [  9.   2.  25.  18.  11.]]\n"
       ]
      }
     ],
     "prompt_number": 44
    },
    {
     "cell_type": "heading",
     "level": 2,
     "metadata": {},
     "source": [
      "PROGRAM 1.27, PAGE 62"
     ]
    },
    {
     "cell_type": "code",
     "collapsed": false,
     "input": [
      "#Sequental Search\n",
      "i = 0\n",
      "def SequentialSearch(a,n,x):\n",
      "    global i\n",
      "    for i in range(n):\n",
      "        if(a[i] == x):\n",
      "            break\n",
      "    if(i==n):\n",
      "        return -1\n",
      "    else:\n",
      "        return i\n",
      "\n",
      "#Sample I/O - [ Not in Textbook]\n",
      "a = [1,3,4,5,65,7,2234,23,32,342]\n",
      "print SequentialSearch(a,len(a),32)"
     ],
     "language": "python",
     "metadata": {},
     "outputs": [
      {
       "output_type": "stream",
       "stream": "stdout",
       "text": [
        "8\n"
       ]
      }
     ],
     "prompt_number": 7
    },
    {
     "cell_type": "heading",
     "level": 2,
     "metadata": {},
     "source": [
      "PROGRAM 1.28, PAGE 63"
     ]
    },
    {
     "cell_type": "code",
     "collapsed": false,
     "input": [
      "#Program to time Program 1.27\n",
      "\n",
      "#For getting the current processor time\n",
      "import time as t\n",
      "\n",
      "def TimeSearch():                \n",
      "    a = range(1,1001)\n",
      "    n = [10*j for j in range(10)] + [100*j+100 for j in range(10)]\n",
      "    print 'n time'\n",
      "    for j in range(20):\n",
      "        #Obtain Computing times\n",
      "        start = t.clock()                      #Start timer\n",
      "        k = SequentialSearch(a,n[j],0)   #Unsuccessfull search\n",
      "        stop = t.clock()                       #Stop timer\n",
      "        runTime = (stop - start)\n",
      "        print n[j],' ',runTime\n",
      "    print 'Times are in hundredths of a second'\n",
      "\n",
      "#Sample I/O not included in text book:\n",
      "TimeSearch()\n",
      "\n",
      "#Returns all zeros since accuracy of clock is 1/100 of a second"
     ],
     "language": "python",
     "metadata": {},
     "outputs": [
      {
       "output_type": "stream",
       "stream": "stdout",
       "text": [
        "n time\n",
        "0   0.0\n",
        "10   0.0\n",
        "20   0.0\n",
        "30   0.0\n",
        "40   0.0\n",
        "50   0.0\n",
        "60   0.0\n",
        "70   0.0\n",
        "80   0.0\n",
        "90   0.0\n",
        "100   0.0\n",
        "200   0.0\n",
        "300   0.0\n",
        "400   0.0\n",
        "500   0.0\n",
        "600   0.0\n",
        "700   0.0\n",
        "800   0.0\n",
        "900   0.0\n",
        "1000   0.0\n",
        "Times are in hundredths of a second\n"
       ]
      }
     ],
     "prompt_number": 18
    },
    {
     "cell_type": "heading",
     "level": 2,
     "metadata": {},
     "source": [
      "PROGRAM 1.29, PAGE 65"
     ]
    },
    {
     "cell_type": "code",
     "collapsed": false,
     "input": [
      "#Timing Program - (Using repetitive testing)\n",
      "\n",
      "#For getting the current processor time\n",
      "import time as t\n",
      "\n",
      "def TimeSearch():                \n",
      "    a = range(1,1001)\n",
      "    n = [10*j for j in range(10)] + [100*j+100 for j in range(10)]\n",
      "    r = [300000,300000,200000,200000,100000,100000,100000,80000,80000]\n",
      "    r += [50000,50000,25000,15000,15000,10000,7500,7000,6000,5000,5000]\n",
      "    \n",
      "    print 'n totalTime runTime'\n",
      "    for j in range(20):\n",
      "        #Obtain Computing times\n",
      "        start = t.clock()                      #Start timer\n",
      "        for b in range (r[j]+1):\n",
      "            k = SequentialSearch(a,n[j],0)   #Unsuccessfull search\n",
      "        stop = t.clock()                       #Stop timer\n",
      "        totalTime = (stop - start)*1000\n",
      "        runTime = float(totalTime)/float(r[j])\n",
      "        print n[j],' ', totalTime,' ',runTime\n",
      "    print 'Times are in hundredths of a second'\n",
      "\n",
      "#Sample I/O not included in text book:\n",
      "TimeSearch()\n",
      "\n",
      "#Returns all zeros since accuracy of clock is 1/100 of a second"
     ],
     "language": "python",
     "metadata": {},
     "outputs": [
      {
       "output_type": "stream",
       "stream": "stdout",
       "text": [
        "n totalTime runTime\n",
        "0"
       ]
      },
      {
       "output_type": "stream",
       "stream": "stdout",
       "text": [
        "   130.0   0.000433333333333\n",
        "10"
       ]
      },
      {
       "output_type": "stream",
       "stream": "stdout",
       "text": [
        "   320.0   0.00106666666667\n",
        "20"
       ]
      },
      {
       "output_type": "stream",
       "stream": "stdout",
       "text": [
        "   350.0   0.00175\n",
        "30"
       ]
      },
      {
       "output_type": "stream",
       "stream": "stdout",
       "text": [
        "   470.0   0.00235\n",
        "40"
       ]
      },
      {
       "output_type": "stream",
       "stream": "stdout",
       "text": [
        "   300.0   0.003\n",
        "50"
       ]
      },
      {
       "output_type": "stream",
       "stream": "stdout",
       "text": [
        "   360.0   0.0036\n",
        "60"
       ]
      },
      {
       "output_type": "stream",
       "stream": "stdout",
       "text": [
        "   430.0   0.0043\n",
        "70"
       ]
      },
      {
       "output_type": "stream",
       "stream": "stdout",
       "text": [
        "   390.0   0.004875\n",
        "80"
       ]
      },
      {
       "output_type": "stream",
       "stream": "stdout",
       "text": [
        "   440.0   0.0055\n",
        "90"
       ]
      },
      {
       "output_type": "stream",
       "stream": "stdout",
       "text": [
        "   310.0   0.0062\n",
        "100"
       ]
      },
      {
       "output_type": "stream",
       "stream": "stdout",
       "text": [
        "   340.0   0.0068\n",
        "200"
       ]
      },
      {
       "output_type": "stream",
       "stream": "stdout",
       "text": [
        "   330.0   0.0132\n",
        "300"
       ]
      },
      {
       "output_type": "stream",
       "stream": "stdout",
       "text": [
        "   300.0   0.02\n",
        "400"
       ]
      },
      {
       "output_type": "stream",
       "stream": "stdout",
       "text": [
        "   390.0   0.026\n",
        "500"
       ]
      },
      {
       "output_type": "stream",
       "stream": "stdout",
       "text": [
        "   330.0   0.033\n",
        "600"
       ]
      },
      {
       "output_type": "stream",
       "stream": "stdout",
       "text": [
        "   300.0   0.04\n",
        "700"
       ]
      },
      {
       "output_type": "stream",
       "stream": "stdout",
       "text": [
        "   330.0   0.0471428571429\n",
        "800"
       ]
      },
      {
       "output_type": "stream",
       "stream": "stdout",
       "text": [
        "   320.0   0.0533333333333\n",
        "900"
       ]
      },
      {
       "output_type": "stream",
       "stream": "stdout",
       "text": [
        "   300.0   0.06\n",
        "1000"
       ]
      },
      {
       "output_type": "stream",
       "stream": "stdout",
       "text": [
        "   330.0   0.066\n",
        "Times are in hundredths of a second\n"
       ]
      }
     ],
     "prompt_number": 19
    }
   ],
   "metadata": {}
  }
 ]
}