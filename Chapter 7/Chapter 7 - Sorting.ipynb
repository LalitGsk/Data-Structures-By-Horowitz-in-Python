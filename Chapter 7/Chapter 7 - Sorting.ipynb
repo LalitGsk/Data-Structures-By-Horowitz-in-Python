{
 "metadata": {
  "name": "",
  "signature": "sha256:a3364cece55ae23d2d29b91a37c4c9252406c8e53a98afd34379f2b80bf597c9"
 },
 "nbformat": 3,
 "nbformat_minor": 0,
 "worksheets": [
  {
   "cells": [
    {
     "cell_type": "heading",
     "level": 2,
     "metadata": {},
     "source": [
      "PROGRAM 7.1, PAGE 395"
     ]
    },
    {
     "cell_type": "code",
     "collapsed": false,
     "input": [
      "# Sequential Search\n",
      "\n",
      "def SeqSearch( a, n, k ):\n",
      "    # Search a[1:n] from left to Right. Return least i such that\n",
      "    # The key of a[i] equals k. If there is no such i, return 0\n",
      "    # NOTE: The indexing is done from 1 ( To comply with the textbook style )\n",
      "    i = 0\n",
      "    while ( i <= n ) and ( a[i] != k ):\n",
      "        i += 1\n",
      "    if ( i > n ):\n",
      "        return 0\n",
      "    else:\n",
      "        return i"
     ],
     "language": "python",
     "metadata": {},
     "outputs": [],
     "prompt_number": 1
    },
    {
     "cell_type": "heading",
     "level": 2,
     "metadata": {},
     "source": [
      "PROGRAM 7.2, PAGE 397"
     ]
    },
    {
     "cell_type": "code",
     "collapsed": false,
     "input": [
      "# Verifying two lists using a sequential search\n",
      "\n",
      "def Verify1( l1, l2, n, m ):\n",
      "    \"\"\"\n",
      "    Compares two unordered lists l1 and l2 of size n and m respectively.\n",
      "    \"\"\"\n",
      "    marked = [False]*(m+1)\n",
      "    for i in range (n+1):\n",
      "        j = SeqSearch(l2, m, l1[i])\n",
      "        if ( j == 0 ):\n",
      "            print l1[i], \" not in l2 \"\n",
      "        else:\n",
      "            if ( l1[i] != l2[j] ):\n",
      "                # Satisfies 3rd condition ( Refer Page 396 )\n",
      "                print \"Discrepancy in \", l1[i]\n",
      "            marked[j] = True\n",
      "            \n",
      "    for i in range(m+1):\n",
      "        if ( not marked[i] ):\n",
      "            print l2[i], \" not in l1. \" # Satsfies 2nd Condition ( Refer Page 396 )\n",
      "    \n",
      "    del marked   "
     ],
     "language": "python",
     "metadata": {},
     "outputs": [],
     "prompt_number": 2
    },
    {
     "cell_type": "heading",
     "level": 2,
     "metadata": {},
     "source": [
      "PROGRAM 7.4, PAGE 399"
     ]
    },
    {
     "cell_type": "code",
     "collapsed": false,
     "input": [
      "# Insertion into a sorted list\n",
      "def Insert(e, a, i):\n",
      "    \"\"\"\n",
      "    Insert e into the ordered sequence a[1:i] such that the \n",
      "    resulting sequence a[1:i+1] is also ordered\n",
      "    The array a must have space allocated for at least i + 2 elements\n",
      "    \"\"\"\n",
      "\n",
      "    a.__setitem__(0, e)\n",
      "    while ( e < a[i] ):\n",
      "        a.__setitem__(i+1, a[i]) # To make an inplace assignments\n",
      "        i -= 1\n",
      "        \n",
      "    a.__setitem__(i+1, e)"
     ],
     "language": "python",
     "metadata": {},
     "outputs": [],
     "prompt_number": 3
    },
    {
     "cell_type": "heading",
     "level": 2,
     "metadata": {},
     "source": [
      "PROGRAM 7.5, PAGE 400"
     ]
    },
    {
     "cell_type": "code",
     "collapsed": false,
     "input": [
      "# Insertion Sort\n",
      "\n",
      "def InsertionSort(a, n):\n",
      "    \"\"\"\n",
      "    Sort a[1:n+1] into non decreasing order\n",
      "    \"\"\"\n",
      "    \n",
      "    for j in range(2, n+1):\n",
      "        temp = a[j]\n",
      "        Insert(temp, a, j-1)"
     ],
     "language": "python",
     "metadata": {},
     "outputs": [],
     "prompt_number": 4
    },
    {
     "cell_type": "heading",
     "level": 2,
     "metadata": {},
     "source": [
      "EXAMPLE 7.1, PAGE 400"
     ]
    },
    {
     "cell_type": "code",
     "collapsed": false,
     "input": [
      "n = 5\n",
      "a = [None, 5, 4, 3, 2, 1] \n",
      "# NOTE: The index-0 element is None to comply with the standards of the Book\n",
      "\n",
      "InsertionSort(a, 5)\n",
      "print a[1:n+1]"
     ],
     "language": "python",
     "metadata": {},
     "outputs": [
      {
       "output_type": "stream",
       "stream": "stdout",
       "text": [
        "[1, 2, 3, 4, 5]\n"
       ]
      }
     ],
     "prompt_number": 5
    },
    {
     "cell_type": "heading",
     "level": 2,
     "metadata": {},
     "source": [
      "EXAMPLE 7.2, PAGE 400"
     ]
    },
    {
     "cell_type": "code",
     "collapsed": false,
     "input": [
      "n = 5\n",
      "a = [None, 2, 3, 4, 5, 1]\n",
      "# NOTE: The index-0 element is None to comply with the standards of the Book\n",
      "\n",
      "InsertionSort(a, 5)\n",
      "print a[1:n+1]"
     ],
     "language": "python",
     "metadata": {},
     "outputs": [
      {
       "output_type": "stream",
       "stream": "stdout",
       "text": [
        "[1, 2, 3, 4, 5]\n"
       ]
      }
     ],
     "prompt_number": 6
    },
    {
     "cell_type": "heading",
     "level": 2,
     "metadata": {},
     "source": [
      "PROGRAM 7.6, PAGE 402"
     ]
    },
    {
     "cell_type": "code",
     "collapsed": false,
     "input": [
      "# Quick Sort\n",
      "def QuickSort(a, left, right, debug=False):\n",
      "    \"\"\"\n",
      "    Sort a[left:right+1] into non decreasing order using quick sort algorithm\n",
      "    \"\"\"\n",
      "    # a[left] is arbitrarily chosen as the pivot.\n",
      "    # Variables i and j are used to partition the subarray so that at any time a[m] <= pivot\n",
      "    # m < i and a[m] >= pivot, m > j. It is assumed that a[left] <= a[right + 1]\n",
      "    \n",
      "    if ( left < right ):\n",
      "        if ( debug ):\n",
      "            print a[1:], \"\\t\", left, \"\\t\", right # To show the working of quick sort step by step\n",
      "        i = left\n",
      "        j = right + 1\n",
      "        pivot = a[left]\n",
      "        \n",
      "        while ( i < j ):\n",
      "            i += 1\n",
      "            while a[i] < pivot:\n",
      "                i += 1\n",
      "            \n",
      "            j -= 1\n",
      "            while a[j] > pivot:\n",
      "                j -= 1\n",
      "                \n",
      "            if i < j:\n",
      "                # Inplace swapping a[i] and a[j]\n",
      "                temp = a[i]\n",
      "                a.__setitem__(i, a[j])\n",
      "                a.__setitem__(j, temp)\n",
      "                \n",
      "        temp = a[j]\n",
      "        a.__setitem__(j, a[left])\n",
      "        a.__setitem__(left, temp)\n",
      "        \n",
      "        QuickSort(a, left, j - 1, debug ) # Recursively call QuickSort for the left subarray\n",
      "        QuickSort(a, j + 1, right, debug ) # Recursively call QuickSort for the right subarray\n",
      "        \n",
      "        # NOTE: debug is just to visualize the working of quick sort and is unnecessary for \n",
      "        # the working of the algorithm."
     ],
     "language": "python",
     "metadata": {},
     "outputs": [],
     "prompt_number": 7
    },
    {
     "cell_type": "heading",
     "level": 2,
     "metadata": {},
     "source": [
      "EXAMPLE 7.3, PAGE 402"
     ]
    },
    {
     "cell_type": "code",
     "collapsed": false,
     "input": [
      "n = 10\n",
      "a = [None, 26, 5, 37, 1, 61, 11, 59, 15, 48, 19]\n",
      "# NOTE: The index-0 element is None to comply with the standards of the Book\n",
      "\n",
      "QuickSort(a, 1 , 10)\n",
      "print a[1:n+1]"
     ],
     "language": "python",
     "metadata": {},
     "outputs": [
      {
       "output_type": "stream",
       "stream": "stdout",
       "text": [
        "[1, 5, 11, 15, 19, 26, 37, 48, 59, 61]\n"
       ]
      }
     ],
     "prompt_number": 8
    },
    {
     "cell_type": "heading",
     "level": 2,
     "metadata": {},
     "source": [
      "FIGURE 7.1, PAGE 403"
     ]
    },
    {
     "cell_type": "code",
     "collapsed": false,
     "input": [
      "n = 10\n",
      "a = [None, 26, 5, 37, 1, 61, 11, 59, 15, 48, 19]\n",
      "# NOTE: The index-0 element is None to comply with the standards of the Book\n",
      "\n",
      "print \"The working of the quick sort algorithm :\\n\\n\"\n",
      "print \"\\t\\tArray             \\tLeft\\tRight \"\n",
      "print \"--------------------------------------------------------\"\n",
      "QuickSort(a, 1 , 10, debug=True)\n",
      "print \"\\n\\nThe final sorted array : \"\n",
      "print a[1:n+1]"
     ],
     "language": "python",
     "metadata": {},
     "outputs": [
      {
       "output_type": "stream",
       "stream": "stdout",
       "text": [
        "The working of the quick sort algorithm :\n",
        "\n",
        "\n",
        "\t\tArray             \tLeft\tRight \n",
        "--------------------------------------------------------\n",
        "[26, 5, 37, 1, 61, 11, 59, 15, 48, 19] \t1 \t10\n",
        "[11, 5, 19, 1, 15, 26, 59, 61, 48, 37] \t1 \t5\n",
        "[1, 5, 11, 19, 15, 26, 59, 61, 48, 37] \t1 \t2\n",
        "[1, 5, 11, 19, 15, 26, 59, 61, 48, 37] \t4 \t5\n",
        "[1, 5, 11, 15, 19, 26, 59, 61, 48, 37] \t7 \t10\n",
        "[1, 5, 11, 15, 19, 26, 48, 37, 59, 61] \t7 \t8\n",
        "\n",
        "\n",
        "The final sorted array : \n",
        "[1, 5, 11, 15, 19, 26, 37, 48, 59, 61]\n"
       ]
      }
     ],
     "prompt_number": 9
    },
    {
     "cell_type": "code",
     "collapsed": false,
     "input": [
      "# Copy function for Merge operation\n",
      "\n",
      "def copy(list_src, start_pos, end_pos, list_dest, copy_to_pos ):\n",
      "    \"\"\"\n",
      "    Copy list_src[start_pos : end_pos] to list_dest[copy_to_pos:]\n",
      "    \"\"\"\n",
      "    while ( start_pos <= end_pos ):\n",
      "        #print \"in cpy - src:  \", list_src, start_pos, end_pos, \" dest : \", list_dest, copy_to_pos\n",
      "        # In place assignment\n",
      "        list_dest.__setitem__(copy_to_pos, list_src[start_pos])\n",
      "        # Increment copy_to_pos and start_pos\n",
      "        copy_to_pos += 1\n",
      "        start_pos += 1      "
     ],
     "language": "python",
     "metadata": {},
     "outputs": [],
     "prompt_number": 10
    },
    {
     "cell_type": "heading",
     "level": 2,
     "metadata": {},
     "source": [
      "PROGRAM 7.7, PAGE 408"
     ]
    },
    {
     "cell_type": "code",
     "collapsed": false,
     "input": [
      "# Merging two sorted lists\n",
      "def Merge(initList, mergedList, l, m, n):\n",
      "    \"\"\"\n",
      "    Merge the sorted initList[l:m] and initList[m+1:n] into one single sorted list\n",
      "    mergedList[1:n]\n",
      "    \"\"\"\n",
      "    i1 = l; iResult = l; i2 = m+1 # i1, i2 and iResult are list positions\n",
      "    \n",
      "    # while neither input list is exhausted\n",
      "    while ( i1 <= m and i2 <= n ):\n",
      "        if initList[i1] <= initList[i2]:\n",
      "            mergedList.__setitem__(iResult, initList[i1])\n",
      "            i1 += 1\n",
      "        else:\n",
      "            mergedList.__setitem__(iResult, initList[i2])\n",
      "            i2 += 1\n",
      "        iResult += 1\n",
      "        \n",
      "    # Copy remaining records, if any, of first list\n",
      "    copy(initList, i1, m, mergedList, iResult)\n",
      "    copy(initList, i2, n, mergedList, iResult)"
     ],
     "language": "python",
     "metadata": {},
     "outputs": [],
     "prompt_number": 11
    },
    {
     "cell_type": "heading",
     "level": 2,
     "metadata": {},
     "source": [
      "PROGRAM 7.8, PAGE 410"
     ]
    },
    {
     "cell_type": "code",
     "collapsed": false,
     "input": [
      "# Merge Pass\n",
      "def MergePass(initList, resultList, n, s):\n",
      "    \"\"\"\n",
      "    Adjacent pairs of sublists of size s are merged from\n",
      "    initList to resultList. n is the number of records in initList\n",
      "    \"\"\"\n",
      "    i = 1 # i is the first position in first of the sublists being merged\n",
      "    \n",
      "    while ( i <= ( n - 2*s + 1 ) ):\n",
      "        Merge(initList, resultList, i, i + s - 1, i + 2 * s - 1)\n",
      "        \n",
      "        # Merge remaining list of size < 2*s\n",
      "        i += 2*s\n",
      "    \n",
      "    if ( i + s - 1 ) < n :\n",
      "        Merge(initList, resultList, i, i+s-1, n)\n",
      "    else:\n",
      "        copy(initList, i, n, resultList, i)"
     ],
     "language": "python",
     "metadata": {},
     "outputs": [],
     "prompt_number": 12
    },
    {
     "cell_type": "heading",
     "level": 2,
     "metadata": {},
     "source": [
      "PROGRAM 7.9, PAGE 410"
     ]
    },
    {
     "cell_type": "code",
     "collapsed": false,
     "input": [
      "# Merge Sort\n",
      "def MergeSort(a, n, debug = False):\n",
      "    \"\"\"\n",
      "    Sort a[1:n] into non decreasing order using MergeSort algorithm\n",
      "    \"\"\"\n",
      "    tempList = [None]*(n+1)\n",
      "    \n",
      "    # l is the length of the sublist currently being merged\n",
      "    l = 1\n",
      "    while ( l < n ):\n",
      "        MergePass(a, tempList, n, l)\n",
      "        if ( debug ):\n",
      "            print tempList[1:]\n",
      "        \n",
      "        l *= 2\n",
      "        MergePass(tempList, a, n, l)\n",
      "        # Interchange role of a and empList\n",
      "    \n",
      "        l *= 2\n",
      "        \n",
      "        # debug is used to control printing of the list as it gets modified by the algorithm\n",
      "        # This is to illustrate the working of merge sort algorithm step by step.\n",
      "        if ( debug ):\n",
      "            print a[1:]\n",
      "        \n",
      "    del tempList  "
     ],
     "language": "python",
     "metadata": {},
     "outputs": [],
     "prompt_number": 13
    },
    {
     "cell_type": "heading",
     "level": 2,
     "metadata": {},
     "source": [
      "EXAMPLE 7.5, PAGE 409"
     ]
    },
    {
     "cell_type": "code",
     "collapsed": false,
     "input": [
      "n = 10\n",
      "a = [None, 26, 5, 77, 1, 61, 11, 59, 15, 48, 19]\n",
      "# NOTE: The index-0 element is None to comply with the standards of the Book\n",
      "\n",
      "MergeSort(a, 10)\n",
      "print a[1:]"
     ],
     "language": "python",
     "metadata": {},
     "outputs": [
      {
       "output_type": "stream",
       "stream": "stdout",
       "text": [
        "[1, 5, 11, 15, 19, 26, 48, 59, 61, 77]\n"
       ]
      }
     ],
     "prompt_number": 14
    },
    {
     "cell_type": "heading",
     "level": 2,
     "metadata": {},
     "source": [
      "FIGURE 7.4, PAGE 409"
     ]
    },
    {
     "cell_type": "code",
     "collapsed": false,
     "input": [
      "# Working of the MergeSort algorithm\n",
      "n = 10\n",
      "a = [None, 26, 5, 77, 1, 61, 11, 59, 15, 48, 19]\n",
      "# NOTE: The index-0 element is None to comply with the standards of the Book\n",
      "print \"The initial unsorted list is : \"\n",
      "print a[1:], \"\\n\"\n",
      "MergeSort(a, 10, debug=True)\n",
      "print \"\\nThe final sorted list is : \"\n",
      "print a[1:]"
     ],
     "language": "python",
     "metadata": {},
     "outputs": [
      {
       "output_type": "stream",
       "stream": "stdout",
       "text": [
        "The initial unsorted list is : \n",
        "[26, 5, 77, 1, 61, 11, 59, 15, 48, 19] \n",
        "\n",
        "[5, 26, 1, 77, 11, 61, 15, 59, 19, 48]\n",
        "[1, 5, 26, 77, 11, 15, 59, 61, 19, 48]\n",
        "[1, 5, 11, 15, 26, 59, 61, 77, 19, 48]\n",
        "[1, 5, 11, 15, 19, 26, 48, 59, 61, 77]\n",
        "\n",
        "The final sorted list is : \n",
        "[1, 5, 11, 15, 19, 26, 48, 59, 61, 77]\n"
       ]
      }
     ],
     "prompt_number": 15
    },
    {
     "cell_type": "heading",
     "level": 2,
     "metadata": {},
     "source": [
      "PROGRAM 7.10, PAGE 412"
     ]
    },
    {
     "cell_type": "code",
     "collapsed": false,
     "input": [
      "# Recursive Merge Sort\n",
      "def rMergeSort(a, link, left, right):\n",
      "    \"\"\"\n",
      "    a[left:right] will be sorted in a non decreasing order \n",
      "    using Merge Sort algorithm and recursive function call\n",
      "    \"\"\"\n",
      "    # a[left:right] is to be sorted, link[i] is initially 0 for all i\n",
      "    # rMergeSort returns the index of the first element in the sorted chain\n",
      "    \n",
      "    if ( left > right ):\n",
      "        return left\n",
      "    \n",
      "    mid = ( left + right ) / 2\n",
      "    return ListMerge(a, link, \n",
      "                     rMergeSort(a, link, left, mid),\n",
      "                     rMergeSort(a, link, mid+1, right))\n",
      "\n",
      "# The list merge function is defined in PROGRAM 7.11, PAGE 413"
     ],
     "language": "python",
     "metadata": {},
     "outputs": [],
     "prompt_number": 16
    },
    {
     "cell_type": "heading",
     "level": 2,
     "metadata": {},
     "source": [
      "PROGRAM 7.11, PAGE 413"
     ]
    },
    {
     "cell_type": "code",
     "collapsed": false,
     "input": [
      "# Merging sorted chains\n",
      "def ListMerge(a, link, start1, start2):\n",
      "    \"\"\"\n",
      "    Function to merge two chain start1 and  start2 in array a.\n",
      "    Returns the first position of the resulting chain that is linked \n",
      "    in nondecreasing order of key values.\n",
      "    \"\"\"\n",
      "    # The sorted chains beginning at start1 and start2, respectively, are merged.\n",
      "    # link[0] is used as a temporary header. Return start of merged chain\n",
      "    iResult = 0 # Last record of result chain\n",
      "    i1 = start1; i2 = start2\n",
      "    while ( i1 and i2 ):\n",
      "        if a[i1] <= a[i2]:\n",
      "            link.__setitem__(iResult, i1)\n",
      "            iResult = i1; i1 = link[i1]\n",
      "        else:\n",
      "            link[iResult] = i2\n",
      "            iResult = i2\n",
      "            i2 = link[i2]\n",
      "    \n",
      "    # Attach remaining records to result chain\n",
      "    if ( i1 == 0 ):\n",
      "        link.__setitem__(iResult, i2)\n",
      "    else:\n",
      "        link.__setitem__(iResult, i1)\n",
      "        \n",
      "    return link[0]"
     ],
     "language": "python",
     "metadata": {},
     "outputs": [],
     "prompt_number": 17
    },
    {
     "cell_type": "heading",
     "level": 2,
     "metadata": {},
     "source": [
      "MAX HEAP DATA STRUCTURE"
     ]
    },
    {
     "cell_type": "code",
     "collapsed": false,
     "input": [],
     "language": "python",
     "metadata": {},
     "outputs": []
    },
    {
     "cell_type": "heading",
     "level": 2,
     "metadata": {},
     "source": [
      "PROGRAM 7.13, PAGE 415"
     ]
    },
    {
     "cell_type": "code",
     "collapsed": false,
     "input": [
      "# Adjusting a Max Heap"
     ],
     "language": "python",
     "metadata": {},
     "outputs": []
    }
   ],
   "metadata": {}
  }
 ]
}